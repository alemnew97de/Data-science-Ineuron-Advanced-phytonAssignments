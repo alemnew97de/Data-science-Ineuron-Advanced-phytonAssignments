{
  "cells": [
    {
      "cell_type": "markdown",
      "metadata": {
        "id": "7aOEEHuatS2h"
      },
      "source": [
        "**Q1. What is the relationship between classes and modules?**"
      ]
    },
    {
      "cell_type": "markdown",
      "metadata": {
        "id": "8UKlYwajtkXi"
      },
      "source": [
        "**Class:**\n",
        "\n",
        "\n",
        "\n",
        "1. Class is analogous to a function Object() { [native code] } for objects or a \"blueprint\" for making new ones.\n",
        "\n",
        "2. Class may have instances.\n",
        "3. Class stability is maintained (by keeping track of instance variables)\n",
        "4. A class may have as many copies as you like by making objects of it (instances)\n",
        "\n",
        "**Module:**\n",
        "\n",
        "\n",
        "\n",
        "1.   A module is a file that contains Python code, such as statements and definitions.\n",
        "2. Simply add the.py extension to the module's name to get the file name.\n",
        "3. Within a module, the value of the global variable __name__ is the module's name as a string.\n",
        "4. Importing modules is an option.\n",
        "5. nstance methods may inherit from or build upon module methods."
      ]
    },
    {
      "cell_type": "markdown",
      "metadata": {
        "id": "noEftH3dtVCP"
      },
      "source": [
        "**Q2. How do you make instances and classes?**"
      ]
    },
    {
      "cell_type": "code",
      "execution_count": 17,
      "metadata": {
        "colab": {
          "base_uri": "https://localhost:8080/"
        },
        "id": "n98cDviXuXns",
        "outputId": "96fd5810-d910-4774-c572-aad9f5717cff"
      },
      "outputs": [
        {
          "name": "stdout",
          "output_type": "stream",
          "text": [
            "20\n",
            "10\n"
          ]
        }
      ],
      "source": [
        "class parent:\n",
        "  variable_parent = 10\n",
        "  def __init__(self,number):\n",
        "    self.variable_parent = number\n",
        "\n",
        "  def function1(self):\n",
        "    print(self.variable_parent)\n",
        "\n",
        "\n",
        "class child(parent):# Inheritance\n",
        "  variable_child = 12\n",
        "  def __init__(self,number):\n",
        "    self.variable_child = number\n",
        "\n",
        "  def function2(self):\n",
        "    print(self.variable_child)\n",
        "\n",
        "\n",
        "obj = child(20)# Class Instance\n",
        "obj.function2()\n",
        "obj.function1()\n",
        "\n"
      ]
    },
    {
      "cell_type": "markdown",
      "metadata": {
        "id": "rrIPC2V6tU8r"
      },
      "source": [
        "**Q3. Where and how should be class attributes created?**"
      ]
    },
    {
      "cell_type": "markdown",
      "metadata": {
        "id": "i1Sj0fPatU6H"
      },
      "source": [
        "An easy-to-understand Python class with only two properties is shown below in the form of ExampleClass: class attr"
      ]
    },
    {
      "cell_type": "markdown",
      "metadata": {
        "id": "9ONfQuRRtU3a"
      },
      "source": [
        "**Q4. Where and how are instance attributes created?**"
      ]
    },
    {
      "cell_type": "markdown",
      "metadata": {
        "id": "oQzKknpOtU06"
      },
      "source": [
        "An instance attribute in Python is a variable that can only be accessed from one specific object. This variable is declared inside the class's init(self,..) function Object() { [native code] } and has a limited scope within this object."
      ]
    },
    {
      "cell_type": "markdown",
      "metadata": {
        "id": "Xc-pa5aCtUyM"
      },
      "source": [
        "**Q5. What does the term &quot;self&quot; in a Python class mean?**"
      ]
    },
    {
      "cell_type": "markdown",
      "metadata": {
        "id": "hPWdfABptUvu"
      },
      "source": [
        "The class instance is denoted by the self variable. Accessing the class's properties and methods in Python is as simple as using the \"self\" keyword. It connects the specified properties to the input values."
      ]
    },
    {
      "cell_type": "markdown",
      "metadata": {
        "id": "RFY0o93CtUtA"
      },
      "source": [
        "**Q6. How does a Python class handle operator overloading?**"
      ]
    },
    {
      "cell_type": "markdown",
      "metadata": {
        "id": "R7_sdy4QtUqW"
      },
      "source": [
        "Operator overloading is accomplished by defining a specialised method inside a class declaration. There should be two underscore  signs (__) in the method name, one at the beginning and one at the conclusion. Specifically, the + operator is overridden by a function called add(). The int and str classes both use this approach.\n",
        "\n",
        "The following are a few examples of Python's \"magic functions\" that make use of operator overloading:\n",
        "\n",
        "\n",
        "\n",
        "* '+' __add (self, other)\n",
        "* '-' __sub (self, other) \n",
        "* '*' __mul (self, other) \n",
        "* '/' __truediv (self, other) \n",
        "* '%' __mod (self, other)"
      ]
    },
    {
      "cell_type": "markdown",
      "metadata": {
        "id": "T778HA_ytUif"
      },
      "source": [
        "**Q7. When do you consider allowing operator overloading of your classes?**"
      ]
    },
    {
      "cell_type": "markdown",
      "metadata": {
        "id": "SdrmKqfPtUFF"
      },
      "source": [
        "If we try to add two objects, each of which is a physical representation of a class (user-defined data type), using the binary \"+\" operator, the compiler will likely give an error. Operator overloading describes the procedure through which a new method is defined for an existing operator. The + operator may now be used to do more than just add a pair of integers together; it can now combine lists or string together."
      ]
    },
    {
      "cell_type": "markdown",
      "metadata": {
        "id": "sX2uHDmWtgpt"
      },
      "source": [
        "**Q8. What is the most popular form of operator overloading?**"
      ]
    },
    {
      "cell_type": "markdown",
      "metadata": {
        "id": "vn1FwA-Ztghs"
      },
      "source": [
        "The plus sign (plus) operator is the most often used overloading operator. Invoking the + operator automatically calls the enchanted method add, where the + operator's action is specified. By modifying the coding of this mystical procedure, we may provide the plus sign with new significance. All operators in Python may be used on the standard types. However, the same operator exhibits varying results when applied to several kinds. The plus (+) operator may be used to do arithmetic addition on two integers, combine two lists, or concatenate two strings."
      ]
    },
    {
      "cell_type": "markdown",
      "metadata": {
        "id": "6SOWQLcAtgYS"
      },
      "source": [
        "**Q9. What are the two most important concepts to grasp in order to comprehend Python OOP code?**"
      ]
    },
    {
      "cell_type": "markdown",
      "metadata": {
        "id": "ZzFm3pCixycQ"
      },
      "source": [
        "Understanding classes and objects is crucial to reading and writing python oop code. where classes serve as containers for ideas and their definitions, and objects are actual real-world occurrences of those classes."
      ]
    },
    {
      "cell_type": "code",
      "execution_count": null,
      "metadata": {
        "id": "XTd1DjH6s8yT"
      },
      "outputs": [],
      "source": []
    }
  ],
  "metadata": {
    "colab": {
      "provenance": []
    },
    "kernelspec": {
      "display_name": "Python 3",
      "name": "python3"
    },
    "language_info": {
      "name": "python"
    }
  },
  "nbformat": 4,
  "nbformat_minor": 0
}
