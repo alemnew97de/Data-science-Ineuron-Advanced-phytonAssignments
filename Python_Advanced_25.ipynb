{
  "cells": [
    {
      "cell_type": "markdown",
      "metadata": {
        "id": "kpHjpPBsrbno"
      },
      "source": [
        "**Q1. What is the distinction between a numpy array and a pandas data frame? Is there a way to convert between the two if there is?**"
      ]
    },
    {
      "cell_type": "markdown",
      "metadata": {
        "id": "q-9StNLMr0j1"
      },
      "source": [
        "Using numpy, one can execute a wide variety of mathematical operations on vectors with the help of Numpy Ndarray, which offers a number of efficient and user-friendly procedures. \n",
        "\n",
        "Using pandas, information can be stored in memory as a two-dimensional table format called a Pandas Dataframe. One can think of it as a table with rows and columns in Excel."
      ]
    },
    {
      "cell_type": "code",
      "execution_count": 4,
      "metadata": {
        "colab": {
          "base_uri": "https://localhost:8080/"
        },
        "id": "IBmKaMK8rUTA",
        "outputId": "7a4e5249-5a6a-4838-d1ea-87bddbe07a4c"
      },
      "outputs": [
        {
          "name": "stdout",
          "output_type": "stream",
          "text": [
            "Numpy array:\n",
            "[[0.61852619 0.61123556 0.16452349]\n",
            " [0.0010475  0.34347187 0.50887136]\n",
            " [0.97105731 0.44376293 0.68671634]\n",
            " [0.05519401 0.28375364 0.14977956]]\n",
            "\n",
            "Pandas DataFrame: \n",
            "          A         B         C\n",
            "0  0.618526  0.611236  0.164523\n",
            "1  0.001047  0.343472  0.508871\n",
            "2  0.971057  0.443763  0.686716\n",
            "3  0.055194  0.283754  0.149780\n",
            "\n",
            " Numpy array: \n",
            "[[0.61852619 0.61123556 0.16452349]\n",
            " [0.0010475  0.34347187 0.50887136]\n",
            " [0.97105731 0.44376293 0.68671634]\n",
            " [0.05519401 0.28375364 0.14977956]]\n"
          ]
        }
      ],
      "source": [
        "import numpy as np\n",
        "import pandas as pd\n",
        "\n",
        "array_1 = np.random.rand(4, 3)\n",
        "print(\"Numpy array:\")\n",
        "print(array_1)\n",
        "  \n",
        "# convert numpy array to dataframe\n",
        "df = pd.DataFrame(array_1, columns =['A', 'B', 'C'])\n",
        "print(\"\\nPandas DataFrame: \")\n",
        "print(df)\n",
        "\n",
        "\n",
        "# convert dataframe to numpy array\n",
        "print(\"\\n Numpy array: \")\n",
        "array_2 = df.to_numpy()\n",
        "print(array_2)"
      ]
    },
    {
      "cell_type": "markdown",
      "metadata": {
        "id": "V97NbVgytRXe"
      },
      "source": [
        "**Q2. What can go wrong when an user enters in a stock-ticker symbol, and how do you handle it?**"
      ]
    },
    {
      "cell_type": "markdown",
      "metadata": {
        "id": "D8duCWP4tyq-"
      },
      "source": [
        "Initially, I proposed checking the HTTP status code to see if the ticker was invalid, however this is unnecessary because Bloomberg would just reroute you to a blank page if the ticker is invalid. But this website features a boilerplate notice:\n",
        "\n",
        "The search for XYZ:India produced no matches. Try the symbol search."
      ]
    },
    {
      "cell_type": "markdown",
      "metadata": {
        "id": "hLPoFwlXt-Kt"
      },
      "source": [
        "**Q3. Identify some of the plotting techniques that are used to produce a stock-market chart.**"
      ]
    },
    {
      "cell_type": "markdown",
      "metadata": {
        "id": "hm3he0rEuAe1"
      },
      "source": [
        "\n",
        "\n",
        "1. Bar graph\n",
        "2. Line graph\n",
        "3. Candle stick chart\n",
        "\n"
      ]
    },
    {
      "cell_type": "markdown",
      "metadata": {
        "id": "TXRbk51NuOjc"
      },
      "source": [
        "**Q4. Why is it essential to print a legend on a stock market chart?**"
      ]
    },
    {
      "cell_type": "markdown",
      "metadata": {
        "id": "Y-X9dbjxugbg"
      },
      "source": [
        "The legends really make it easy to see how the data is changing in relation to the many characteristics. The programme generates coloured trends to show which characteristics are associated with particular tendencies."
      ]
    },
    {
      "cell_type": "markdown",
      "metadata": {
        "id": "O1IuuV3xulSW"
      },
      "source": [
        "**Q5. What is the best way to limit the length of a pandas data frame to less than a year?**"
      ]
    },
    {
      "cell_type": "markdown",
      "metadata": {
        "id": "c46-3QExu3OZ"
      },
      "source": [
        "One can do this by specifying a beginning and an end time. In start we write the date from where we are starting and at the conclusion we put the end date. That's why one can limit it to this time frame. We can also use parameters like periods and frequencies to specify how often we need a given duration."
      ]
    },
    {
      "cell_type": "markdown",
      "metadata": {
        "id": "9terKTIvu9y5"
      },
      "source": [
        "**Q6. What is the definition of a 180-day moving average?**"
      ]
    },
    {
      "cell_type": "markdown",
      "metadata": {
        "id": "1sNYWf5DvOc0"
      },
      "source": [
        "Market noise is reduced and price swings are smoothed down with the use of moving averages. A moving average is a statistical technique used to examine data points by averaging a series of subsets of the whole. When looking at a 180-day moving average, it indicates The simple moving average (SMA) is the average price over the last 180 days."
      ]
    },
    {
      "cell_type": "markdown",
      "metadata": {
        "id": "EjdVdz-ivRVC"
      },
      "source": [
        "**Q7. Did the chapter&#39;s final example use &quot;indirect&quot; importing? If so, how exactly do you do it?**"
      ]
    },
    {
      "cell_type": "markdown",
      "metadata": {
        "id": "Uun8dCHEw5ir"
      },
      "source": [
        "Yes, it mentioned"
      ]
    },
    {
      "cell_type": "code",
      "execution_count": 5,
      "metadata": {
        "id": "8D097FzjsP6U"
      },
      "outputs": [],
      "source": [
        "from sklearn.model_selection import train_test_split as tts"
      ]
    },
    {
      "cell_type": "code",
      "execution_count": null,
      "metadata": {
        "id": "xksrcsVnxGeN"
      },
      "outputs": [],
      "source": []
    }
  ],
  "metadata": {
    "colab": {
      "provenance": []
    },
    "kernelspec": {
      "display_name": "Python 3",
      "name": "python3"
    },
    "language_info": {
      "name": "python"
    }
  },
  "nbformat": 4,
  "nbformat_minor": 0
}
