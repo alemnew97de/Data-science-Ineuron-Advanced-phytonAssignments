{
  "cells": [
    {
      "cell_type": "markdown",
      "metadata": {
        "id": "JZbN1VeVBBAV"
      },
      "source": [
        "**Q1. Define the relationship between a class and its instances. Is it a one-to-one or a one-to-many partnership, for example?**"
      ]
    },
    {
      "cell_type": "markdown",
      "metadata": {
        "id": "AxvIw98JBg9i"
      },
      "source": [
        "A class is a conceptualization of something concrete. There are attributes and procedures included. A class's instances are the classes' objects. Class and its institutions have a one-to-many relationship."
      ]
    },
    {
      "cell_type": "markdown",
      "metadata": {
        "id": "F6M_pBijBi_q"
      },
      "source": [
        "**Q2. What kind of data is held only in an instance?**"
      ]
    },
    {
      "cell_type": "markdown",
      "metadata": {
        "id": "7XyZDZpbBobG"
      },
      "source": [
        "All the data that is unique to an Instance object is stored in its Instance variables."
      ]
    },
    {
      "cell_type": "markdown",
      "metadata": {
        "id": "K36qQ_fjBqFj"
      },
      "source": [
        "**Q3. What kind of knowledge is stored in a class?**"
      ]
    },
    {
      "cell_type": "markdown",
      "metadata": {
        "id": "CcsA7rDtB6f2"
      },
      "source": [
        "One way to access and use a user-defined data structure is to make an instance of that structure, or \"instance of class,\" which contains all of the data members and member functions for that class. In this way, a class can be thought of as an object's blueprint."
      ]
    },
    {
      "cell_type": "markdown",
      "metadata": {
        "id": "v50ztjWxB8N4"
      },
      "source": [
        "**Q4. What exactly is a method, and how is it different from a regular function?**"
      ]
    },
    {
      "cell_type": "markdown",
      "metadata": {
        "id": "Z6zyYqbsCFcl"
      },
      "source": [
        "The instance variables of a class can be accessed through its methods. Therefore, the object's method can affect the object's state. Instance characteristics and state cannot be accessed or modified by functions."
      ]
    },
    {
      "cell_type": "markdown",
      "metadata": {
        "id": "Kd0N2wPaCHSq"
      },
      "source": [
        "**Q5. Is inheritance supported in Python, and if so, what is the syntax?**"
      ]
    },
    {
      "cell_type": "code",
      "execution_count": 1,
      "metadata": {
        "colab": {
          "base_uri": "https://localhost:8080/"
        },
        "id": "r06DU_n5A8V-",
        "outputId": "e74b7fc5-d6e0-446e-8dba-d504787cb7b0"
      },
      "outputs": [
        {
          "name": "stdout",
          "output_type": "stream",
          "text": [
            "Class of Instance: <class '__main__.child'>\n",
            "Base class: (<class '__main__.parent'>,)\n"
          ]
        }
      ],
      "source": [
        "class parent:\n",
        "  number = 10\n",
        "  def __init__(self):\n",
        "    pass\n",
        "\n",
        "class child(parent):\n",
        "  def __init__(self):\n",
        "    super().__init__()\n",
        "\n",
        "\n",
        "object_child = child()\n",
        "print(\"Class of Instance:\",object_child.__class__)\n",
        "print(\"Base class:\",object_child.__class__.__bases__)"
      ]
    },
    {
      "cell_type": "markdown",
      "metadata": {
        "id": "Sr429eBlCeAc"
      },
      "source": [
        "**Q6. How much encapsulation (making instance or class variables private) does Python support?**"
      ]
    },
    {
      "cell_type": "markdown",
      "metadata": {
        "id": "_rdMdSvOClte"
      },
      "source": [
        "When something is encapsulated, it can't be accessed accidently or on purpose. To some extent, the private properties and methods are not hidden. In the object method, you can get at the private data."
      ]
    },
    {
      "cell_type": "markdown",
      "metadata": {
        "id": "D_haNxL6Cnqq"
      },
      "source": [
        "**Q7. How do you distinguish between a class variable and an instance variable?**"
      ]
    },
    {
      "cell_type": "markdown",
      "metadata": {
        "id": "mDAl-69WCufP"
      },
      "source": [
        "When a class attribute is set, all objects of that class can make use of it. Instance variables are private and can only be accessed by instances of a particular class."
      ]
    },
    {
      "cell_type": "markdown",
      "metadata": {
        "id": "BubBqdYACv9e"
      },
      "source": [
        "**Q8. When, if ever, can self be included in a class&#39;s method definitions?**"
      ]
    },
    {
      "cell_type": "markdown",
      "metadata": {
        "id": "HOYv0NPVC16t"
      },
      "source": [
        "Invoking a method with the self keyword allows you to access all of the class and instance variables."
      ]
    },
    {
      "cell_type": "markdown",
      "metadata": {
        "id": "d1VFfhW3C42X"
      },
      "source": [
        "**Q9. What is the difference between the _ _add_ _ and the _ _radd_ _ methods?**"
      ]
    },
    {
      "cell_type": "markdown",
      "metadata": {
        "id": "iamDMqm4DHYP"
      },
      "source": [
        "The **__add__()** function is invoked internally whenever the + operator is used to add two values.\n",
        "\n",
        "Addition with reflected, swapped operands is implemented in Python with the **radd ()** method. To put it another way, Python looks for the method x. add when you type x + y."
      ]
    },
    {
      "cell_type": "markdown",
      "metadata": {
        "id": "MkylNTW0DWQP"
      },
      "source": [
        "**Q10. When is it necessary to use a reflection method? When do you not need it, even though you support the operation in question?**"
      ]
    },
    {
      "cell_type": "markdown",
      "metadata": {
        "id": "ezAr3P6JDoi-"
      },
      "source": [
        "Let's pretend we're implementing a class that, by use of operator overloading, must behave like a number. That's why we've added support for __add__ to your class, making it possible to use expressions like obj + 10 without error. Specifically, obj + 10 is translated to obj. add (10), and the custom method __add__ can do whatever action that is appropriate for adding 10 to the custom class. A question arises, however, when considering expressions such as 10 + obj, which is (10). __add (myobj)? Since obj is a new type and 10 is an instance of a built-in type in Python, the __add__ function on 10 will fail with the NotImplemented exception. __radd__ is utilised in these kinds of situations. In the beginning, Python will (10). If __add (myobj) returns NotImplemented, Python will see if the right-hand operand supports __radd__, and if it does, it will execute obj. radd (10) instead of throwing a TypeError."
      ]
    },
    {
      "cell_type": "markdown",
      "metadata": {
        "id": "IQE1t_poDqUn"
      },
      "source": [
        "**Q11. What is the _ _iadd_ _ method called?**"
      ]
    },
    {
      "cell_type": "code",
      "execution_count": 3,
      "metadata": {
        "colab": {
          "base_uri": "https://localhost:8080/"
        },
        "id": "pbf52pBJCbxo",
        "outputId": "0675f7a2-09f9-4eab-c4c6-9b30fbb72979"
      },
      "outputs": [
        {
          "name": "stdout",
          "output_type": "stream",
          "text": [
            "30\n"
          ]
        }
      ],
      "source": [
        "class number:\n",
        "    def __init__(self,x):\n",
        "        self.x=x\n",
        "    def __iadd__(self,other):\n",
        "        self.x += other.x\n",
        "        return self.x\n",
        "\n",
        "object1_number = number(10)\n",
        "object2_number = number(20)\n",
        "object1_number += object2_number\n",
        "print(object1_number)"
      ]
    },
    {
      "cell_type": "markdown",
      "metadata": {
        "id": "6-IIxPh2ECqn"
      },
      "source": [
        "**Q12. Is the _ _init_ _ method inherited by subclasses? What do you do if you need to customize itsbehavior within a subclass?**"
      ]
    },
    {
      "cell_type": "code",
      "execution_count": 9,
      "metadata": {
        "colab": {
          "base_uri": "https://localhost:8080/"
        },
        "id": "Wl6cT0xRDypq",
        "outputId": "3d6702eb-55de-4dc5-db20-845ba574f6df"
      },
      "outputs": [
        {
          "data": {
            "text/plain": [
              "30"
            ]
          },
          "execution_count": 9,
          "metadata": {},
          "output_type": "execute_result"
        }
      ],
      "source": [
        "class Parent:\n",
        "    def __init__(self,x):\n",
        "        self.x=x\n",
        "\n",
        "class child1(Parent):\n",
        "    pass\n",
        "\n",
        "object_child1=child1(2)\n",
        "\n",
        "object_child1.x \n",
        "\n",
        "class child2(Parent):\n",
        "    def __init__(self,x,y):\n",
        "        self.x=x\n",
        "        self.y=y\n",
        "    def func(self):\n",
        "        return(self.x + self.y)\n",
        "\n",
        "object_child2=child2(10,20)\n",
        "object_child2.func()\n"
      ]
    },
    {
      "cell_type": "code",
      "execution_count": null,
      "metadata": {
        "id": "8Af9z7GBE8az"
      },
      "outputs": [],
      "source": []
    }
  ],
  "metadata": {
    "colab": {
      "provenance": []
    },
    "kernelspec": {
      "display_name": "Python 3",
      "name": "python3"
    },
    "language_info": {
      "name": "python"
    }
  },
  "nbformat": 4,
  "nbformat_minor": 0
}
