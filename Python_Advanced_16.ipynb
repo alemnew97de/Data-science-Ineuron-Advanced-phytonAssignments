{
  "cells": [
    {
      "cell_type": "markdown",
      "metadata": {
        "id": "TrFK6H7A0Q0P"
      },
      "source": [
        "**Q1. What is the benefit of regular expressions?**"
      ]
    },
    {
      "cell_type": "markdown",
      "metadata": {
        "id": "PI98oZS_0uXA"
      },
      "source": [
        "Python's re module provides access to regular expressions (also known as REs, regexes, or regex patterns), which are effectively a tiny, highly specialised programming language. This tiny language allows you to define rules for a group of possible strings, such as English sentences, email addresses, TeX commands, or anything else you might wish to use as a match.\n",
        "Compiling regular expression patterns into bytecodes for execution by a matching engine built in C. Writing a RE in a certain way to generate speedier bytecode may require sophisticated users to pay close attention to how the engine will execute the RE. Since understanding the inner workings of the matching engine is necessary for optimization, it will not be discussed in this document."
      ]
    },
    {
      "cell_type": "markdown",
      "metadata": {
        "id": "E1qbBcos0wkO"
      },
      "source": [
        "**Q2. Describe the difference between the effects of &quot;(ab)c+&quot; and &quot;a(bc)+.&quot; Which of these, if any, is the unqualified pattern &quot;abc+&quot;?**"
      ]
    },
    {
      "cell_type": "markdown",
      "metadata": {
        "id": "qzzDziiw1AKn"
      },
      "source": [
        "(ab)c+ and a(bc)+ are both acceptable patterns. The key distinction between these two patterns is that in a(bc)+ bc is a group, but in (ab)c+ ab is a group."
      ]
    },
    {
      "cell_type": "markdown",
      "metadata": {
        "id": "Eb30yoOw1KFK"
      },
      "source": [
        "**How much do you need to use the following sentence while using regular expressions?**"
      ]
    },
    {
      "cell_type": "markdown",
      "metadata": {
        "id": "ryD7426f1Rcs"
      },
      "source": [
        "Regular expressions always require an initial **import re** statement."
      ]
    },
    {
      "cell_type": "markdown",
      "metadata": {
        "id": "eQnj2i9o1Zix"
      },
      "source": [
        "**Q4. Which characters have special significance in square brackets when expressing a range, and under what circumstances?**"
      ]
    },
    {
      "cell_type": "markdown",
      "metadata": {
        "id": "hp727PEm1j5N"
      },
      "source": [
        "When enclosed in square brackets, the characters.,*,?,,or() have a special meaning. In contrast to pattern texts in a raw string, they do not require explicit escaping by \\\\."
      ]
    },
    {
      "cell_type": "markdown",
      "metadata": {
        "id": "tuxGkdJR1sfV"
      },
      "source": [
        "**Q5. How does compiling a regular-expression object benefit you?**"
      ]
    },
    {
      "cell_type": "markdown",
      "metadata": {
        "id": "ODBVm43B10bs"
      },
      "source": [
        "Pattern Objects can be combined using regular expressions. Those that can be put to use in pattern recognition. To search for a pattern again without having to rewrite it is also useful."
      ]
    },
    {
      "cell_type": "markdown",
      "metadata": {
        "id": "w4bzHo2G12QG"
      },
      "source": [
        "**Q6. What are some examples of how to use the match object returned by re.match and re.search?**"
      ]
    },
    {
      "cell_type": "markdown",
      "metadata": {
        "id": "SwC3_vAl1-83"
      },
      "source": [
        "Python's re module provides useful utilities like re.search() and re.match(). When it comes to searching in strings, these functions perform admirably. The function looks through a string for a specific substring and returns a match object if it is found, or else nothing.\n",
        "\n",
        "In practise, these two capabilities are not interchangeable. While both methods return the first substring match in a string, re.match() searches only the beginning of the string and returns a match object if one is found. However, if the substring match occurs in the midst of the string, it will not provide any results.\n",
        "\n",
        "As opposed to re.search(), which only searches the current line, strings with several lines trigger a search of the entire string."
      ]
    },
    {
      "cell_type": "code",
      "execution_count": 6,
      "metadata": {
        "colab": {
          "base_uri": "https://localhost:8080/"
        },
        "id": "NLo0aj6A0JlU",
        "outputId": "a677d59d-3fea-4c66-92a3-28cb4242634c"
      },
      "outputs": [
        {
          "name": "stdout",
          "output_type": "stream",
          "text": [
            "Start Index: 8\n",
            "End Index: 15\n",
            "None\n"
          ]
        }
      ],
      "source": [
        "import re\n",
        " \n",
        "string1 = 'This is INeuron session on full stack data science'\n",
        "\n",
        "string2 = 'session' \n",
        "\n",
        "match = re.search(r'INeuron', string1)\n",
        " \n",
        "print('Start Index:', match.start())\n",
        "print('End Index:', match.end())\n",
        "print(re.match(string2, string1, re.IGNORECASE))"
      ]
    },
    {
      "cell_type": "markdown",
      "metadata": {
        "id": "i1njBdbq276n"
      },
      "source": [
        "**Q7. What is the difference between using a vertical bar (|) as an alteration and using square brackets as a character set?**"
      ]
    },
    {
      "cell_type": "markdown",
      "metadata": {
        "id": "w2KSxaA23G-W"
      },
      "source": [
        "If | is used, the search pattern is then either or. To clarify, if you use | as part of a search string, it will treat that string as if it were or. The first occurrence of the matched string will be returned as the Match Object. Utilizing a Rectangular Character Set If a matching character set is discovered within the square bracket, Brackets will return it."
      ]
    },
    {
      "cell_type": "markdown",
      "metadata": {
        "id": "dvf1gcFh3N4C"
      },
      "source": [
        "**Q8. In regular-expression search patterns, why is it necessary to use the raw-string indicator (r)? In replacement strings?**"
      ]
    },
    {
      "cell_type": "markdown",
      "metadata": {
        "id": "oYEKUYHi3ZGn"
      },
      "source": [
        "Regular-expression search patterns employ raw Strings, thus backslashes are not translated."
      ]
    },
    {
      "cell_type": "code",
      "execution_count": null,
      "metadata": {
        "id": "vHCeNtTm2OaY"
      },
      "outputs": [],
      "source": []
    }
  ],
  "metadata": {
    "colab": {
      "provenance": []
    },
    "kernelspec": {
      "display_name": "Python 3",
      "name": "python3"
    },
    "language_info": {
      "name": "python"
    }
  },
  "nbformat": 4,
  "nbformat_minor": 0
}
