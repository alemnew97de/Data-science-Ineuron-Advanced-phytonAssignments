{
  "cells": [
    {
      "cell_type": "markdown",
      "metadata": {
        "id": "_0PJslsF-Wpz"
      },
      "source": [
        "**Q1. Which two operator overloading methods can you use in your classes to support iteration?**"
      ]
    },
    {
      "cell_type": "markdown",
      "metadata": {
        "id": "tXgoD7nX-rut"
      },
      "source": [
        "Followings are two methods used for iteration:\n",
        "\n",
        "\n",
        "1.   __iter__\n",
        "2.   __next__\n",
        "\n",
        "__iter__ method is used for make iterable object whereas __next__ method is used for traverse element from iterable object"
      ]
    },
    {
      "cell_type": "code",
      "execution_count": 16,
      "metadata": {
        "colab": {
          "base_uri": "https://localhost:8080/"
        },
        "id": "jh2VNWc6-OYP",
        "outputId": "6d570a16-3334-48de-8b13-162ac9c81621"
      },
      "outputs": [
        {
          "name": "stdout",
          "output_type": "stream",
          "text": [
            "1 2 3 4 5 6 7 8 9 10 "
          ]
        }
      ],
      "source": [
        "class count:\n",
        "  def __init__(self,start, end):\n",
        "    self.number = start\n",
        "    self.counter = end\n",
        "\n",
        "  def __iter__(self):\n",
        "    return self\n",
        "\n",
        "  def __next__(self):\n",
        "    if self.number < self.counter:\n",
        "      self.number += 1\n",
        "      return self.number\n",
        "    else:\n",
        "      raise StopIteration\n",
        "      \n",
        "      \n",
        "for item in count(0,10):\n",
        "  print(item, end =\" \")\n",
        "  \n",
        "\n"
      ]
    },
    {
      "cell_type": "markdown",
      "metadata": {
        "id": "691XkwBlBqzV"
      },
      "source": [
        "**Q2. In what contexts do the two operator overloading methods manage printing?**"
      ]
    },
    {
      "cell_type": "markdown",
      "metadata": {
        "id": "St4dJWORCEn0"
      },
      "source": [
        "Following are two methods for manage printing:\n",
        "\n",
        "\n",
        "1.   __str__\n",
        "2.   __repr__\n",
        "\n",
        "\n",
        "Both __str__ and __repr__ methods are used for string representation. \n",
        "\n",
        "__repr__ is used by developer or debugger which is unambigous and return results in quotes.Further, it returns more precise value than __str__\n"
      ]
    },
    {
      "cell_type": "code",
      "execution_count": 21,
      "metadata": {
        "colab": {
          "base_uri": "https://localhost:8080/"
        },
        "id": "nuCdyalWEoRD",
        "outputId": "ce0804d3-ce26-43ba-9a79-c4ad033f925a"
      },
      "outputs": [
        {
          "name": "stdout",
          "output_type": "stream",
          "text": [
            "2022-11-28 07:14:55.568763\n",
            "datetime.datetime(2022, 11, 28, 7, 14, 55, 568763)\n"
          ]
        }
      ],
      "source": [
        "import datetime\n",
        "current_day = datetime.datetime.now()\n",
        "\n",
        "print(str(current_day))\n",
        "\n",
        "print(repr(current_day))"
      ]
    },
    {
      "cell_type": "markdown",
      "metadata": {
        "id": "gEytGXcpB6vv"
      },
      "source": [
        "**Q3. In a class, how do you intercept slice operations?**"
      ]
    },
    {
      "cell_type": "markdown",
      "metadata": {
        "id": "4ZC835ltB6mr"
      },
      "source": [
        "slice() function is used to slicing a given string with start index and end index"
      ]
    },
    {
      "cell_type": "code",
      "execution_count": 28,
      "metadata": {
        "colab": {
          "base_uri": "https://localhost:8080/"
        },
        "id": "l9vckuQTF5ic",
        "outputId": "88bb3b60-adfb-4341-a419-a22a167083a4"
      },
      "outputs": [
        {
          "name": "stdout",
          "output_type": "stream",
          "text": [
            "This is a \n"
          ]
        }
      ],
      "source": [
        "string = 'This is a Ineuron session on Python'\n",
        "print(string[slice(0,10)])"
      ]
    },
    {
      "cell_type": "markdown",
      "metadata": {
        "id": "GUvz2uPzB6iK"
      },
      "source": [
        "**Q4. In a class, how do you capture in-place addition?**"
      ]
    },
    {
      "cell_type": "markdown",
      "metadata": {
        "id": "6_6GjI0GB6Xh"
      },
      "source": [
        "Using __iadd__ function where one object of a class will hold final result of operation during operation performed by other object of same class\n"
      ]
    },
    {
      "cell_type": "code",
      "execution_count": 30,
      "metadata": {
        "colab": {
          "base_uri": "https://localhost:8080/"
        },
        "id": "rqf_M3eUHETF",
        "outputId": "0de90ec5-0d91-46c5-b551-fa45a393c942"
      },
      "outputs": [
        {
          "name": "stdout",
          "output_type": "stream",
          "text": [
            "30\n"
          ]
        }
      ],
      "source": [
        "class demo1:\n",
        "  count = 0\n",
        "  def __init__(self,count):\n",
        "    self.count = count\n",
        "\n",
        "  def __iadd__(self, object1):\n",
        "    self.count += object1.count\n",
        "    return self.count\n",
        "\n",
        "demo_object1 = demo1(10)\n",
        "demo_object2 = demo1(20)\n",
        "\n",
        "demo_object1 += demo_object2\n",
        "print(demo_object1)"
      ]
    },
    {
      "cell_type": "markdown",
      "metadata": {
        "id": "dkyH2Kq5B6RA"
      },
      "source": [
        "**Q5. When is it appropriate to use operator overloading?**"
      ]
    },
    {
      "cell_type": "markdown",
      "metadata": {
        "id": "46h0KWaDIcMG"
      },
      "source": [
        "Opreator overloading use when there is a situation to use same oprator for different purpose when required"
      ]
    },
    {
      "cell_type": "code",
      "execution_count": 33,
      "metadata": {
        "colab": {
          "base_uri": "https://localhost:8080/"
        },
        "id": "hvBQ02naAYQs",
        "outputId": "7f4f933a-5d7e-469a-840c-09c70be95644"
      },
      "outputs": [
        {
          "name": "stdout",
          "output_type": "stream",
          "text": [
            "20\n"
          ]
        }
      ],
      "source": [
        "class demo:\n",
        "  count = 0\n",
        "  def __init__(self,count):\n",
        "    self.count = count\n",
        "  def __add__(self,other):\n",
        "    return self.count + other.count\n",
        "demo_object1 = demo(10)\n",
        "demo_object2 = demo(10)\n",
        "\n",
        "print(demo_object1 + demo_object2)"
      ]
    },
    {
      "cell_type": "code",
      "execution_count": null,
      "metadata": {
        "id": "AYF_-PPcIAND"
      },
      "outputs": [],
      "source": []
    }
  ],
  "metadata": {
    "colab": {
      "provenance": []
    },
    "kernelspec": {
      "display_name": "Python 3",
      "name": "python3"
    },
    "language_info": {
      "name": "python"
    }
  },
  "nbformat": 4,
  "nbformat_minor": 0
}
