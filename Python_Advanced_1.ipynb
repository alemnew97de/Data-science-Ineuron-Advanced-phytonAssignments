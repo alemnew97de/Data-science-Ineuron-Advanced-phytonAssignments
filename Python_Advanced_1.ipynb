{
  "cells": [
    {
      "cell_type": "markdown",
      "metadata": {
        "id": "C9_CXnZjnIhL"
      },
      "source": [
        "Q1. What is the purpose of Python&#39;s OOP?"
      ]
    },
    {
      "cell_type": "markdown",
      "metadata": {
        "id": "9x61K6iynnI1"
      },
      "source": [
        "\n",
        "\n",
        "1.   Because of the object-oriented design, the code is not only effective but also straightforward.\n",
        "2.   The code in the class can be used again and again because it is reusable.\n",
        "3. Data abstraction ensures the privacy and security of your data.\n",
        "4. By sharing the same interface across instances, polymorphism helps programmers save time. \n",
        "5. The ability to \"inherit\" the techniques of pre-existing programmes is a powerful tool for programmers.\n",
        "\n",
        "\n",
        "\n",
        "\n",
        "\n"
      ]
    },
    {
      "cell_type": "markdown",
      "metadata": {
        "id": "28nfv_foohOK"
      },
      "source": [
        "Q2. Where does an inheritance search look for an attribute?"
      ]
    },
    {
      "cell_type": "markdown",
      "metadata": {
        "id": "m389jI17oubw"
      },
      "source": [
        "Inheritance searches are performed from the bottom up. From the thing is where it all begins. attr and check for the first occurrence of attribute from the object up through all classes above it, left to right and bottom to top."
      ]
    },
    {
      "cell_type": "markdown",
      "metadata": {
        "id": "_vpIG0zgo3Nz"
      },
      "source": [
        "Q3. How do you distinguish between a class object and an instance object?"
      ]
    },
    {
      "cell_type": "markdown",
      "metadata": {
        "id": "KlB5QzdrpEep"
      },
      "source": [
        "Class name itself is a class object whereas instance object when we access class with parenthesis ()"
      ]
    },
    {
      "cell_type": "code",
      "execution_count": 7,
      "metadata": {
        "colab": {
          "base_uri": "https://localhost:8080/"
        },
        "id": "bDnoqF_vnAf0",
        "outputId": "4378713b-26c6-4675-fc38-742d876bc828"
      },
      "outputs": [
        {
          "name": "stdout",
          "output_type": "stream",
          "text": [
            "5\n",
            "12\n"
          ]
        }
      ],
      "source": [
        "class demo:\n",
        "  variable = 5\n",
        "  def __init__(self,number):\n",
        "    self.variable = number\n",
        "\n",
        "  def function1(self):\n",
        "    print(self.variable)\n",
        "\n",
        "print(demo.variable)\n",
        "object1 = demo(12)\n",
        "object1.function1()"
      ]
    },
    {
      "cell_type": "markdown",
      "metadata": {
        "id": "7xnyWrXDp7ND"
      },
      "source": [
        "In above, with 'demo.variable', class object access and with 'object1.function1()', instance object 'object1' is used to access function1()\n",
        "\n"
      ]
    },
    {
      "cell_type": "markdown",
      "metadata": {
        "id": "kP-NzotIqSTt"
      },
      "source": [
        "Q4. What makes the first argument in a class’s method function special?"
      ]
    },
    {
      "cell_type": "markdown",
      "metadata": {
        "id": "FlhNDiK8qbB9"
      },
      "source": [
        "First argument of class'method is 'Self', a keyword identifies a specific class instance and associates its attributes with the specified arguments."
      ]
    },
    {
      "cell_type": "markdown",
      "metadata": {
        "id": "LyqgC_7bqpE0"
      },
      "source": [
        "Q5. What is the purpose of the __init__ method?"
      ]
    },
    {
      "cell_type": "markdown",
      "metadata": {
        "id": "Uyr5AXMXqqvG"
      },
      "source": [
        "Classes written in Python typically have a reserved method called init . This method allows the class to initialise its attributes when an object is created from the class."
      ]
    },
    {
      "cell_type": "markdown",
      "metadata": {
        "id": "jCNApVSgq1Cw"
      },
      "source": [
        "Q6. What is the process for creating a class instance?"
      ]
    },
    {
      "cell_type": "markdown",
      "metadata": {
        "id": "KY7o2TVOq7T1"
      },
      "source": [
        "Process:\n",
        "1.   Creation of class\n",
        "2.   Assign an instance of the class you just created to a variable (called an object variable) \n",
        "3. and invoke its init function with any parameters it requires."
      ]
    },
    {
      "cell_type": "code",
      "execution_count": 8,
      "metadata": {
        "colab": {
          "base_uri": "https://localhost:8080/"
        },
        "id": "SJ8IUvKFpmya",
        "outputId": "1cc9a068-6c64-4e03-c5b5-d5a5267726fb"
      },
      "outputs": [
        {
          "name": "stdout",
          "output_type": "stream",
          "text": [
            "5\n",
            "12\n"
          ]
        }
      ],
      "source": [
        "class demo: # Class creation\n",
        "  variable = 5\n",
        "  def __init__(self,number):# Constructor\n",
        "    self.variable = number\n",
        "\n",
        "  def function1(self):\n",
        "    print(self.variable)\n",
        "\n",
        "print(demo.variable)\n",
        "object1 = demo(12)# Instance object\n",
        "object1.function1()"
      ]
    },
    {
      "cell_type": "markdown",
      "metadata": {
        "id": "o2ZBUxJbrkDq"
      },
      "source": [
        "Q7. What is the process for creating a class?"
      ]
    },
    {
      "cell_type": "markdown",
      "metadata": {
        "id": "3fkr9-OHrxKA"
      },
      "source": [
        "Process:\n",
        "\n",
        "\n",
        "\n",
        "1.   The term \"class\" is the first word of a definition.\n",
        "2.   then the name of the class and a ':'\n",
        "3. The class will have documentation with docstring using ''' '''.\n",
        "4. It is recommended that each class contain at least one statement."
      ]
    },
    {
      "cell_type": "markdown",
      "metadata": {
        "id": "CPawYAqFsPfZ"
      },
      "source": [
        "Q8. How would you define the superclasses of a class?"
      ]
    },
    {
      "cell_type": "markdown",
      "metadata": {
        "id": "hWUNDPwbsato"
      },
      "source": [
        "A parent or superclass is the class from which another class derives."
      ]
    },
    {
      "cell_type": "code",
      "execution_count": null,
      "metadata": {
        "id": "OksyJCOwrgsa"
      },
      "outputs": [],
      "source": []
    }
  ],
  "metadata": {
    "colab": {
      "provenance": []
    },
    "kernelspec": {
      "display_name": "Python 3",
      "name": "python3"
    },
    "language_info": {
      "name": "python"
    }
  },
  "nbformat": 4,
  "nbformat_minor": 0
}
