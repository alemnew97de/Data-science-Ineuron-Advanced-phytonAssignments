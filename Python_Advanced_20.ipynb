{
  "cells": [
    {
      "cell_type": "markdown",
      "metadata": {
        "id": "bMTNLB4LJbcF"
      },
      "source": [
        "**1. Compare and contrast the float and Decimal classes&#39; benefits and drawbacks.**"
      ]
    },
    {
      "cell_type": "markdown",
      "metadata": {
        "id": "o0qmPUi0JlZL"
      },
      "source": [
        "In Python, you can save numerical values in either the float or decimal type.\n",
        "When time and ease of access are paramount, floats are the way to go. The number you declare is approximated by a float.When accuracy is critical, use decimals. Although decimals have their own precision difficulties, they are typically more accurate than floats. In Python 3, there isn't a huge performance gap between float and decimal, but in my experience, the precise gains from using a decimal are worth the hit to speed."
      ]
    },
    {
      "cell_type": "markdown",
      "metadata": {
        "id": "iD8ZTmVAJoW2"
      },
      "source": [
        "**2. Decimal(&#39;1.200&#39;) and Decimal(&#39;1.2&#39;) are two objects to consider. In what sense are these the same object? Are these just two ways of representing the exact same value, or do they correspond to different internal states?**"
      ]
    },
    {
      "cell_type": "markdown",
      "metadata": {
        "id": "_esgbbG5J2B8"
      },
      "source": [
        "Both values are identical, however they are stored in different ways internally. Note that the precision is not the same: Decimal('1.200') internally returns 1.200, while Decimal('1.2') returns 1.2."
      ]
    },
    {
      "cell_type": "markdown",
      "metadata": {
        "id": "nR6xJN65J4R0"
      },
      "source": [
        "**3. What happens if the equality of Decimal(&#39;1.200&#39;) and Decimal(&#39;1.2&#39;) is checked?**"
      ]
    },
    {
      "cell_type": "markdown",
      "metadata": {
        "id": "vyXRoi0hKCqI"
      },
      "source": [
        "Each value has been verified to be the same, and the only difference between them is the precision."
      ]
    },
    {
      "cell_type": "markdown",
      "metadata": {
        "id": "F__2DgkdKFUL"
      },
      "source": [
        "**4. Why is it preferable to start a Decimal object with a string rather than a floating-point value?**"
      ]
    },
    {
      "cell_type": "markdown",
      "metadata": {
        "id": "33J1wZDUKQxd"
      },
      "source": [
        "The value is then translated from floating point to decimal format. A float value can be stored in a decimal representation with the same level of accuracy. When a float value is given as a decimal object, however, it must first be transformed from a floating point number, which may already contain rounding errors. This conversion can take some time.As a result, it is recommended to initiate the construction of a Decimal object with a string."
      ]
    },
    {
      "cell_type": "markdown",
      "metadata": {
        "id": "GD-GyE1CKTfD"
      },
      "source": [
        "**5. In an arithmetic phrase, how simple is it to combine Decimal objects with integers?**"
      ]
    },
    {
      "cell_type": "markdown",
      "metadata": {
        "id": "ktqjuKoaKaSj"
      },
      "source": [
        "The usage of decimal() allows us to accomplish it."
      ]
    },
    {
      "cell_type": "markdown",
      "metadata": {
        "id": "AU_c5nraKdv1"
      },
      "source": [
        "**6. Can Decimal objects and floating-point values be combined easily?**"
      ]
    },
    {
      "cell_type": "markdown",
      "metadata": {
        "id": "G7j2VYF6KpMc"
      },
      "source": [
        "Any arithmetic operation involving a floating-point value and a decimal object, such as adding, subtracting, or multiplying, will result in an error. A conversion from floating point to decimal is required before these operations can be carried out."
      ]
    },
    {
      "cell_type": "markdown",
      "metadata": {
        "id": "sjdcPtQXKq43"
      },
      "source": [
        "**7. Using the Fraction class but not the Decimal class, give an example of a quantity that can be expressed with absolute precision.**"
      ]
    },
    {
      "cell_type": "markdown",
      "metadata": {
        "id": "KurhSnaCKwwl"
      },
      "source": [
        "Value of 0.5 will be represented as ½."
      ]
    },
    {
      "cell_type": "markdown",
      "metadata": {
        "id": "YH7C2nxbKz44"
      },
      "source": [
        "**8. Describe a quantity that can be accurately expressed by the Decimal or Fraction classes but not by a floating-point value.**"
      ]
    },
    {
      "cell_type": "code",
      "execution_count": 3,
      "metadata": {
        "colab": {
          "base_uri": "https://localhost:8080/"
        },
        "id": "RueuO3zALkrB",
        "outputId": "0d2ad6b0-7265-41d8-ea1d-b47c320b3396"
      },
      "outputs": [
        {
          "name": "stdout",
          "output_type": "stream",
          "text": [
            "decimal= 0.01\n",
            "fraction= 1/100\n",
            "float value= 0.010000000000000002\n"
          ]
        }
      ],
      "source": [
        "import decimal\n",
        "from decimal import Decimal\n",
        "from fractions import Fraction\n",
        "d=Decimal('0.1') * Decimal('0.1')\n",
        "print(\"decimal=\",d)\n",
        "frac=Fraction('1/10') * Fraction('1/10')\n",
        "print(\"fraction=\",frac)\n",
        "fl=0.1*0.1\n",
        "print(\"float value=\",fl)"
      ]
    },
    {
      "cell_type": "markdown",
      "metadata": {
        "id": "h5uwUsodK6UL"
      },
      "source": [
        "**Q9.Consider the following two fraction objects: Fraction(1, 2) and Fraction(1, 2). (5, 10). Is the internal state of these two objects the same? Why do you think that is?**"
      ]
    },
    {
      "cell_type": "markdown",
      "metadata": {
        "id": "2-2UJ2GkLJTg"
      },
      "source": [
        "Both will be reduced to 1/2"
      ]
    },
    {
      "cell_type": "markdown",
      "metadata": {
        "id": "OUmcJelJLDnZ"
      },
      "source": [
        "**How do the Fraction class and the integer type (int) relate to each other? Containment or inheritance?**"
      ]
    },
    {
      "cell_type": "markdown",
      "metadata": {
        "id": "RsBrcgs9LO_6"
      },
      "source": [
        "There is a container-like connection between the fraction class and the integer type (int). It consists of two ints, the first of which is the numerator, and the second of which is the denominator."
      ]
    },
    {
      "cell_type": "code",
      "execution_count": null,
      "metadata": {
        "id": "SnuOGJ3JLGhn"
      },
      "outputs": [],
      "source": []
    }
  ],
  "metadata": {
    "colab": {
      "provenance": []
    },
    "kernelspec": {
      "display_name": "Python 3",
      "name": "python3"
    },
    "language_info": {
      "name": "python"
    }
  },
  "nbformat": 4,
  "nbformat_minor": 0
}
