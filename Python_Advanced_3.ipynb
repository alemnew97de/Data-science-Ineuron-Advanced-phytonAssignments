{
  "cells": [
    {
      "cell_type": "markdown",
      "metadata": {
        "id": "rzLRh8DI7viQ"
      },
      "source": [
        "**1. What is the concept of an abstract superclass?**"
      ]
    },
    {
      "cell_type": "markdown",
      "metadata": {
        "id": "lg_qLvID8Z6M"
      },
      "source": [
        "* It's possible to use an abstract class as a starting point for own custom classes. \n",
        "* We can specify that any classes deriving from the abstract one must implement a certain set of methods.\n",
        "* Abstract classes are types that have one or more abstract methods.\n",
        "* To declare a method as abstract but not provide its implementation is to make it abstract just in name. For the purpose of building comprehensive functional units, we resort to an abstract class.\n",
        "* An abstract class is used to standardize the behavior of a component across many implementations.\n",
        "* An abstract class serves as a template for concrete classes to follow. Create an abstract class and provide a set of methods that must be implemented by any classes that inherit from it. \n",
        "* We utilize abstract classes to ensure that all of our component implementations have the same interface."
      ]
    },
    {
      "cell_type": "code",
      "execution_count": 8,
      "metadata": {
        "colab": {
          "base_uri": "https://localhost:8080/"
        },
        "id": "6UmuVarH5ix0",
        "outputId": "3bfba9df-de4d-4292-82e9-40bfa63a349a"
      },
      "outputs": [
        {
          "name": "stdout",
          "output_type": "stream",
          "text": [
            "BTech Program\n",
            "MBA Program\n"
          ]
        }
      ],
      "source": [
        "from abc import ABC, abstractmethod\n",
        "class program(ABC):\n",
        "  def program(self):\n",
        "    pass\n",
        "\n",
        "class MBA(program):\n",
        "  def program(self):\n",
        "    print('MBA Program')\n",
        "\n",
        "class MCA(program):\n",
        "  def program(self):\n",
        "    print('MCA Program')\n",
        "\n",
        "class BTech(program):\n",
        "  def program(self):\n",
        "    print('BTech Program')\n",
        "\n",
        "BTechObject = BTech()\n",
        "BTechObject.program()\n",
        "\n",
        "MBAObject = MBA()\n",
        "MBAObject.program()"
      ]
    },
    {
      "cell_type": "markdown",
      "metadata": {
        "id": "xqpOa-Cl-CIM"
      },
      "source": [
        "**2. What happens when a class statement&#39;s top level contains a basic assignment statement?**"
      ]
    },
    {
      "cell_type": "markdown",
      "metadata": {
        "id": "uJHijFYw-S3_"
      },
      "source": [
        "Class statement's top level contains a assignment statment which consider as class attribute. This class attribute completly differenct from instance variable. "
      ]
    },
    {
      "cell_type": "code",
      "execution_count": 11,
      "metadata": {
        "colab": {
          "base_uri": "https://localhost:8080/"
        },
        "id": "aJENY0zw89xj",
        "outputId": "9a707269-d1d2-4f3b-a7cb-eedf4b3412ce"
      },
      "outputs": [
        {
          "name": "stdout",
          "output_type": "stream",
          "text": [
            "13\n"
          ]
        }
      ],
      "source": [
        "class demo:\n",
        "  variable1 = 12\n",
        "  def __init__(self, number):\n",
        "    self.variable1 = number\n",
        "    print(self.variable1)\n",
        "\n",
        "demoObject = demo(13)\n",
        "\n"
      ]
    },
    {
      "cell_type": "markdown",
      "metadata": {
        "id": "P-xAv6KS-8WV"
      },
      "source": [
        "**3. Why does a class need to manually call a superclass&#39;s __init__ method?**"
      ]
    },
    {
      "cell_type": "markdown",
      "metadata": {
        "id": "WQBYeTydASY1"
      },
      "source": [
        "While inheritance, child class can have privelege to access parent's class functions and attributes except its __init__ function. In order to access, chiled class overrides parent's class __init__ function using super() function"
      ]
    },
    {
      "cell_type": "code",
      "execution_count": 18,
      "metadata": {
        "colab": {
          "base_uri": "https://localhost:8080/"
        },
        "id": "eEG8OEbu-2o8",
        "outputId": "d31679b5-013e-4392-f74d-697ec2db2ff4"
      },
      "outputs": [
        {
          "name": "stdout",
          "output_type": "stream",
          "text": [
            "{'UID': '22BCS2001', 'name': 'Harman', 'course': 'BTech', 'batch': 2022}\n"
          ]
        }
      ],
      "source": [
        "class parent:\n",
        "  UID = ''\n",
        "  name = ''\n",
        "  course = ''\n",
        "  def __init__(self, UID, name,course):\n",
        "    self.UID = UID\n",
        "    self.name = name\n",
        "    self.course = course\n",
        "\n",
        "class child(parent):\n",
        "  batch = 0\n",
        "  def __init__(self, UID, name,course,batch):\n",
        "    super().__init__(UID, name,course)\n",
        "    self.batch = batch\n",
        "\n",
        "childObject = child('22BCS2001', 'Harman', 'BTech', 2022)\n",
        "print(childObject.__dict__) \n"
      ]
    },
    {
      "cell_type": "markdown",
      "metadata": {
        "id": "GM5ueAaXAzfN"
      },
      "source": [
        "**4. How can you augment, instead of completely replacing, an inherited method?**"
      ]
    },
    {
      "cell_type": "markdown",
      "metadata": {
        "id": "SPVjPMJIBvwP"
      },
      "source": [
        "Using a super() function, I can augment parent class methods"
      ]
    },
    {
      "cell_type": "code",
      "execution_count": 20,
      "metadata": {
        "colab": {
          "base_uri": "https://localhost:8080/"
        },
        "id": "_C1NeX0U_0Wg",
        "outputId": "5006dbf6-5863-433a-b4f5-7818e4456e8a"
      },
      "outputs": [
        {
          "name": "stdout",
          "output_type": "stream",
          "text": [
            "{'UID': '22BCS2001', 'name': 'Harman', 'course': 'BTech', 'batch': 2022}\n"
          ]
        }
      ],
      "source": [
        "class parent:\n",
        "  UID = ''\n",
        "  name = ''\n",
        "  course = ''\n",
        "  def __init__(self, UID, name,course):\n",
        "    self.UID = UID\n",
        "    self.name = name\n",
        "    self.course = course\n",
        "\n",
        "class child(parent):\n",
        "  batch = 0\n",
        "  def __init__(self, UID, name,course,batch):\n",
        "    super().__init__(UID, name,course)\n",
        "    self.batch = batch\n",
        "\n",
        "childObject = child('22BCS2001', 'Harman', 'BTech', 2022)\n",
        "print(childObject.__dict__) "
      ]
    },
    {
      "cell_type": "markdown",
      "metadata": {
        "id": "sT26Vb0oCGqm"
      },
      "source": [
        "**5. How is the local scope of a class different from that of a function?**"
      ]
    },
    {
      "cell_type": "markdown",
      "metadata": {
        "id": "pNaHK5icCucF"
      },
      "source": [
        "Local scope variable is one which has a local scope to function only. It cannot be access outside a funtion because of its local scope.\n",
        "\n",
        "Class scope means is a variable which can be access by any class function, declared inside a class using .(Dot) operator or even can be access by class object declare outside a class"
      ]
    },
    {
      "cell_type": "code",
      "execution_count": 25,
      "metadata": {
        "colab": {
          "base_uri": "https://localhost:8080/"
        },
        "id": "pKq1XwEEBsws",
        "outputId": "10fd6d8e-4bf8-4213-c6ec-b0d33af071ac"
      },
      "outputs": [
        {
          "name": "stdout",
          "output_type": "stream",
          "text": [
            "22BCS2001\n",
            "Local Variable\n",
            "None\n"
          ]
        }
      ],
      "source": [
        "class parent:\n",
        "  UID = ''\n",
        "  name = ''\n",
        "  course = ''\n",
        "  def __init__(self, UID, name,course):\n",
        "    self.UID = UID\n",
        "    self.name = name\n",
        "    self.course = course\n",
        "\n",
        "  def function1(self):\n",
        "    string = 'Local Variable' \n",
        "    print(string)\n",
        "\n",
        "class child(parent):\n",
        "  batch = 0\n",
        "  def __init__(self, UID, name,course,batch):\n",
        "    super().__init__(UID, name,course)\n",
        "    self.batch = batch\n",
        "\n",
        "childObject = child('22BCS2001', 'Harman', 'BTech', 2022)\n",
        "\n",
        "print(childObject.UID)\n",
        "print(childObject.function1()) "
      ]
    },
    {
      "cell_type": "code",
      "execution_count": null,
      "metadata": {
        "id": "4hxlg5F7CacU"
      },
      "outputs": [],
      "source": []
    }
  ],
  "metadata": {
    "colab": {
      "provenance": []
    },
    "kernelspec": {
      "display_name": "Python 3",
      "name": "python3"
    },
    "language_info": {
      "name": "python"
    }
  },
  "nbformat": 4,
  "nbformat_minor": 0
}
