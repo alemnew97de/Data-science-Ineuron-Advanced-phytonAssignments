{
  "cells": [
    {
      "cell_type": "markdown",
      "metadata": {
        "id": "lGUiGe6d9VgJ"
      },
      "source": [
        "**Q1. Describe the differences between text and binary files in a single paragraph.**"
      ]
    },
    {
      "cell_type": "markdown",
      "metadata": {
        "id": "UN0vZi7K9fu4"
      },
      "source": [
        "**Text files**, which can be either rich text documents or plain text documents, are a subset of binary files used to contain text that can be read by a human. While binary files use bits to represent numbers, text files use bits to represent characters.\n",
        "\n",
        "The most common type of file is a **binary file**, which stores information as a string of bytes organised into groups of eight or sixteen bits. These bytes stand in for user-supplied data, and files of this kind can have a wide variety of content kinds (including video, audio, text, and more) in a single location."
      ]
    },
    {
      "cell_type": "markdown",
      "metadata": {
        "id": "mFgUBzu_9o6I"
      },
      "source": [
        "**Q2. What are some scenarios where using text files will be the better option? When would you like to use binary files instead of text files?**"
      ]
    },
    {
      "cell_type": "markdown",
      "metadata": {
        "id": "45nCtIZy9yWS"
      },
      "source": [
        "In contrast to other file types, text documents are less likely to become corrupted, as any unwanted changes will likely become apparent once the file is viewed and can be readily edited out. Whereas You should save image data in binary files rather than text files."
      ]
    },
    {
      "cell_type": "markdown",
      "metadata": {
        "id": "Ko5y9zEr95UI"
      },
      "source": [
        "**Q3. What are some of the issues with using binary operations to read and write a Python integer directly to disc?**"
      ]
    },
    {
      "cell_type": "markdown",
      "metadata": {
        "id": "DdIglsyp-AhI"
      },
      "source": [
        "When doing binary operations on a Python integer (read or write),Raw data is what binary operations work on.Recognizing the number of bytes that will be read or written is essential."
      ]
    },
    {
      "cell_type": "markdown",
      "metadata": {
        "id": "zYVGpeGW-FZf"
      },
      "source": [
        "**Q4. Describe a benefit of using the with keyword instead of explicitly opening a file.**"
      ]
    },
    {
      "cell_type": "markdown",
      "metadata": {
        "id": "hLK_wPgK-Nip"
      },
      "source": [
        "If an exception occurs after a file is opened using the **with** keyword, or if the file has reached its end, the file will be closed automatically. That way, files wouldn't be accidentally left open and you wouldn't have to close them manually."
      ]
    },
    {
      "cell_type": "markdown",
      "metadata": {
        "id": "FOqq4yAt-b0e"
      },
      "source": [
        "**Q5. Does Python have the trailing newline while reading a line of text? Does Python append a newline when you write a line of text?**"
      ]
    },
    {
      "cell_type": "markdown",
      "metadata": {
        "id": "Qiog4KYF-j62"
      },
      "source": [
        "When reading a line of text in Python, a newline does appear at the end of the line. For our written Python to function properly, a newline character must be supplied at the appropriate time."
      ]
    },
    {
      "cell_type": "markdown",
      "metadata": {
        "id": "5eeE2OMx-lru"
      },
      "source": [
        "**Q6. What file operations enable for random-access operation?**"
      ]
    },
    {
      "cell_type": "markdown",
      "metadata": {
        "id": "9fC_JOzz-su8"
      },
      "source": [
        "Random access is possible with seek() and tell(), two file operations ()"
      ]
    },
    {
      "cell_type": "markdown",
      "metadata": {
        "id": "Eu2ZB1iM-xAv"
      },
      "source": [
        "**Q7. When do you think you&#39;ll use the struct package the most?**"
      ]
    },
    {
      "cell_type": "markdown",
      "metadata": {
        "id": "KdqRndW9-4IE"
      },
      "source": [
        "Common python types can be easily converted to C types with the help of the struct package."
      ]
    },
    {
      "cell_type": "markdown",
      "metadata": {
        "id": "06_hpUgp-6an"
      },
      "source": [
        "**Q8. When is pickling the best option?**"
      ]
    },
    {
      "cell_type": "markdown",
      "metadata": {
        "id": "hCPa8EpL_xTH"
      },
      "source": [
        "If you need to generate a new binary file in Python, pickling is your best bet."
      ]
    },
    {
      "cell_type": "markdown",
      "metadata": {
        "id": "ilzt3A9y_zaE"
      },
      "source": [
        "**Q9. When will it be best to use the shelve package?**"
      ]
    },
    {
      "cell_type": "markdown",
      "metadata": {
        "id": "jrRwo8c7_8zh"
      },
      "source": [
        "The Shelve package is utilised to pickle information, but the entire file is interpreted as a dictionary."
      ]
    },
    {
      "cell_type": "markdown",
      "metadata": {
        "id": "9NNMPfto_-rF"
      },
      "source": [
        "**Q10. What is a special restriction when using the shelve package, as opposed to using other data dictionaries?**"
      ]
    },
    {
      "cell_type": "markdown",
      "metadata": {
        "id": "Y-dSpemTAIQS"
      },
      "source": [
        "Any picklable Python object can be used as a value, but only strings can be used as keys in this particular dictionary object."
      ]
    },
    {
      "cell_type": "code",
      "execution_count": null,
      "metadata": {
        "id": "OqFNBaSL9Oc7"
      },
      "outputs": [],
      "source": []
    }
  ],
  "metadata": {
    "colab": {
      "provenance": []
    },
    "kernelspec": {
      "display_name": "Python 3",
      "name": "python3"
    },
    "language_info": {
      "name": "python"
    }
  },
  "nbformat": 4,
  "nbformat_minor": 0
}
