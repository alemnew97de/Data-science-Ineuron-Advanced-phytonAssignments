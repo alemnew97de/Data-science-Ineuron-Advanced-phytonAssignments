{
  "cells": [
    {
      "cell_type": "markdown",
      "metadata": {
        "id": "zufjQF3xEpda"
      },
      "source": [
        "**Q1. What is the difference between __getattr__ and __getattribute__?**"
      ]
    },
    {
      "cell_type": "markdown",
      "metadata": {
        "id": "hRlsv-juE8ui"
      },
      "source": [
        "In contrast to __getattribute__, __getattr__ is only called if all other methods of locating the attribute have failed. Since __getattribute__ is called before the object's attributes are examined, it can be difficult to get it right. It is simple to get stuck in a never-ending loop of recursion."
      ]
    },
    {
      "cell_type": "markdown",
      "metadata": {
        "id": "5484auTzFAmn"
      },
      "source": [
        "**Q2. What is the difference between properties and descriptors?**"
      ]
    },
    {
      "cell_type": "markdown",
      "metadata": {
        "id": "dOVA7XpLFX1j"
      },
      "source": [
        "The property function provides the simplest means of defining the get, set, and delete operations that can be applied to a given attribute name. The property function helps you create identifiers. Defining descriptor classes by hand is an approach that is little less approachable, but more reusable and extendable. You'll have a lot of leeway with this. You do this by associating the name of an attribute with a descriptor class you've created that defines the get, set, and delete methods.The property function provides a convenient means of implementing a basic descriptor without the need to create a new class specifically for that purpose. It is possible to define an attribute's behaviour without defining the entire class; instead, we can write getter and setter method functions and tie them to the attribute name."
      ]
    },
    {
      "cell_type": "markdown",
      "metadata": {
        "id": "tqF7sfO2FcZT"
      },
      "source": [
        "**Q3. What are the key differences in functionality between __getattr__ and __getattribute__, as well as properties and descriptors?**"
      ]
    },
    {
      "cell_type": "markdown",
      "metadata": {
        "id": "f1iozaU1FpX0"
      },
      "source": [
        "\n",
        "\n",
        "1. getattr is only called if all other methods of locating the attribute have failed.\n",
        "2. Since getattribute is called before the object's attributes are examined, it can be difficult to get it right. It is simple to get stuck in a never-ending loop of recursion.\n",
        "3. The property function helps you create identifiers. Defining descriptor classes by hand is an approach that is little less approachable, but more reusable and extendable. You'll have a lot of leeway with this. You do this by associating the name of an attribute with a descriptor class you've created that defines the get, set, and delete methods.The property function provides a convenient means of implementing a basic descriptor without the need to create a new class specifically for that purpose\n",
        "\n"
      ]
    },
    {
      "cell_type": "code",
      "execution_count": null,
      "metadata": {
        "id": "UP-KQZCyEYu4"
      },
      "outputs": [],
      "source": []
    }
  ],
  "metadata": {
    "colab": {
      "provenance": []
    },
    "kernelspec": {
      "display_name": "Python 3",
      "name": "python3"
    },
    "language_info": {
      "name": "python"
    }
  },
  "nbformat": 4,
  "nbformat_minor": 0
}
