{
  "cells": [
    {
      "cell_type": "markdown",
      "metadata": {
        "id": "oGpFqEzy6eZP"
      },
      "source": [
        "**1. What are the new features added in Python 3.8 version?**"
      ]
    },
    {
      "cell_type": "markdown",
      "metadata": {
        "id": "KO3FQ4Tp60Uu"
      },
      "source": [
        "**The pow() Operation** The modular multiplicative inverse of the supplied number is computed using the pow() function in its three-argument form when the exponent is -1.\n",
        "\n",
        "Statements of return and yield do not require parentheses. It is not necessary to use parentheses when using the 'yield' or'return' statements to return multiple values.\n",
        "\n",
        "dictionary is required for use with reversed() In Python 3.8, the built-in method \"reversed()\" can be used to retrieve the elements in the reverse order of insertion, which was not the case in Python 3.7.\n",
        "\n",
        "**Positionaal Parameters(/)**\n",
        "\n",
        "The slash character (/) added to the syntax of function parameters indicates that the parameter is positional and cannot be passed as a keyword.\n",
        "\n",
        "**Assignment Expressions(:=)**\n",
        "\n",
        "Using this operator, you can do both an assignment and a return in the same expression. There is no longer any need to set the value of the variable to null before using it.\n",
        "\n",
        "**f-strings now support “=”**\n",
        "\n",
        "Literal String Interpolation, sometimes known as F-strings, is a string formatting mechanism (because of the leading f character preceding the string literal). F-strings are designed with the goal of simplifying string interpolation. The equal sign (=) and assignment operator () mentioned above can be used within f-strings in Python 3.8.\n"
      ]
    },
    {
      "cell_type": "markdown",
      "metadata": {
        "id": "hs1KNCHv_GbI"
      },
      "source": [
        "**2. What is monkey patching in Python?**"
      ]
    },
    {
      "cell_type": "markdown",
      "metadata": {
        "id": "B5ORPbaS_RG4"
      },
      "source": [
        "A monkey patch is a change made to a Python class or module while it is being used. The behaviour of code can be modified at runtime in Python."
      ]
    },
    {
      "cell_type": "markdown",
      "metadata": {
        "id": "Ocopi08h_TIX"
      },
      "source": [
        "**3. What is the difference between a shallow copy and deep copy?**"
      ]
    },
    {
      "cell_type": "markdown",
      "metadata": {
        "id": "hO5VSYjd_c3V"
      },
      "source": [
        "The = operator in Python does not make a copy of the item being referenced. The new variable is simply created and given the same memory address as the original. It is known as \"shallow copy\" when this occurs. When doing a deep copy, a new object is produced at a new memory location and any modifications made to the original object are not replicated in the copy."
      ]
    },
    {
      "cell_type": "markdown",
      "metadata": {
        "id": "TfN1KAxt_gXi"
      },
      "source": [
        "**4. What is the maximum possible length of an identifier?**"
      ]
    },
    {
      "cell_type": "markdown",
      "metadata": {
        "id": "s4Ol4IUQ_h7I"
      },
      "source": [
        "Infinite"
      ]
    },
    {
      "cell_type": "markdown",
      "metadata": {
        "id": "PuyAsJkD_kcz"
      },
      "source": [
        "**5. What is generator comprehension?**"
      ]
    },
    {
      "cell_type": "markdown",
      "metadata": {
        "id": "UzrMeOL__rQw"
      },
      "source": [
        "This function is similar to a list comprehension, but instead of returning a list, it returns an iterator. To do so, we substitute () for [] in the text."
      ]
    },
    {
      "cell_type": "code",
      "execution_count": 1,
      "metadata": {
        "colab": {
          "base_uri": "https://localhost:8080/"
        },
        "id": "NftBITJj6Yo5",
        "outputId": "8a426496-9cf4-416c-834a-d1c0b8aee1db"
      },
      "outputs": [
        {
          "name": "stdout",
          "output_type": "stream",
          "text": [
            "<generator object <genexpr> at 0x7f82a25de660>\n",
            "0\n",
            "1\n",
            "2\n",
            "3\n",
            "4\n"
          ]
        }
      ],
      "source": [
        "numbers = (i for i in range(5))\n",
        "\n",
        "print(numbers)\n",
        "\n",
        "print(next(numbers))\n",
        "print(next(numbers))\n",
        "print(next(numbers))\n",
        "print(next(numbers))\n",
        "print(next(numbers))\n"
      ]
    },
    {
      "cell_type": "code",
      "execution_count": null,
      "metadata": {
        "id": "eODRPD8P_vr3"
      },
      "outputs": [],
      "source": []
    }
  ],
  "metadata": {
    "colab": {
      "provenance": []
    },
    "kernelspec": {
      "display_name": "Python 3",
      "name": "python3"
    },
    "language_info": {
      "name": "python"
    }
  },
  "nbformat": 4,
  "nbformat_minor": 0
}
