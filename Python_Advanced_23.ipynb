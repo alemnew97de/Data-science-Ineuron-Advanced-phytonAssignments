{
  "cells": [
    {
      "cell_type": "markdown",
      "metadata": {
        "id": "7-HX97SjSfnw"
      },
      "source": [
        "**Q1. If you have any, what are your choices for increasing the comparison between different figures on the same graph?**"
      ]
    },
    {
      "cell_type": "markdown",
      "metadata": {
        "id": "MuJ69jjRSvL_"
      },
      "source": [
        "Matplotlib's subplots feature is a handy tool for comparing multiple data sets side-by-side on a single graph. Subplots are essentially a collection of smaller plots (where each plot forms its own axis) that can coexist in the same diagram."
      ]
    },
    {
      "cell_type": "markdown",
      "metadata": {
        "id": "MA9896T0Sw78"
      },
      "source": [
        "**Q2. Can you explain the benefit of compound interest over a higher rate of interest that does not compound after reading this chapter?**"
      ]
    },
    {
      "cell_type": "markdown",
      "metadata": {
        "id": "7g_WxDC-S5Ms"
      },
      "source": [
        "Because at the conclusion of each compounding period, which could be daily, monthly, quarterly, or annually, you earn returns on returns on returns, a sum of money grows at a quicker rate with compound interest than with simple interest."
      ]
    },
    {
      "cell_type": "markdown",
      "metadata": {
        "id": "n7mXyLOOS8K_"
      },
      "source": [
        "**Q3. What is a histogram, exactly? Name a numpy method for creating such a graph.**"
      ]
    },
    {
      "cell_type": "markdown",
      "metadata": {
        "id": "QexPrHLQTCgg"
      },
      "source": [
        "The histogram displays the sum of X values relative to Y. It means that the Y value at any given place on X is the sum of all counts or data below that X value. The built-in function numpy.histogram() is invoked."
      ]
    },
    {
      "cell_type": "markdown",
      "metadata": {
        "id": "KVLA6tq_TFhi"
      },
      "source": [
        "**Q4. If necessary, how do you change the aspect ratios between the X and Y axes?**"
      ]
    },
    {
      "cell_type": "markdown",
      "metadata": {
        "id": "eqK72vyGTg4F"
      },
      "source": [
        "The figure(figsize=(10,10)) method in the matplot.pyplot package can be used to shrink or enlarge the graph."
      ]
    },
    {
      "cell_type": "markdown",
      "metadata": {
        "id": "TBryHm3YTjT6"
      },
      "source": [
        "**Q5. Compare and contrast the three types of array multiplication between two numpy arrays: dot product, outer product, and regular multiplication of two numpy arrays.**"
      ]
    },
    {
      "cell_type": "code",
      "execution_count": 2,
      "metadata": {
        "id": "ZZn5Bse6Sb5A"
      },
      "outputs": [],
      "source": [
        "import numpy as np\n",
        "array_1 = np.array([[1,2,3],[4,5,6],[6,7,8]])\n",
        "array_2 = np.array([[10,20,30],[40,50,60],[60,70,80]])"
      ]
    },
    {
      "cell_type": "code",
      "execution_count": 3,
      "metadata": {
        "colab": {
          "base_uri": "https://localhost:8080/"
        },
        "id": "dDA2ER5DTyYo",
        "outputId": "3919dc11-b6be-42ea-a5e3-28f4cc45558c"
      },
      "outputs": [
        {
          "data": {
            "text/plain": [
              "array([[ 10,  40,  90],\n",
              "       [160, 250, 360],\n",
              "       [360, 490, 640]])"
            ]
          },
          "execution_count": 3,
          "metadata": {},
          "output_type": "execute_result"
        }
      ],
      "source": [
        "array_1 * array_2"
      ]
    },
    {
      "cell_type": "code",
      "execution_count": 4,
      "metadata": {
        "colab": {
          "base_uri": "https://localhost:8080/"
        },
        "id": "tWyE8z9pT06u",
        "outputId": "33118b6c-b507-4407-d0f2-deceafecb821"
      },
      "outputs": [
        {
          "data": {
            "text/plain": [
              "array([[ 270,  330,  390],\n",
              "       [ 600,  750,  900],\n",
              "       [ 820, 1030, 1240]])"
            ]
          },
          "execution_count": 4,
          "metadata": {},
          "output_type": "execute_result"
        }
      ],
      "source": [
        "np.dot(array_1, array_2)"
      ]
    },
    {
      "cell_type": "code",
      "execution_count": 5,
      "metadata": {
        "colab": {
          "base_uri": "https://localhost:8080/"
        },
        "id": "BUM-YEEwT2PR",
        "outputId": "5d526d7e-b244-4d17-b616-0032adc5381c"
      },
      "outputs": [
        {
          "data": {
            "text/plain": [
              "array([[ 10,  20,  30,  40,  50,  60,  60,  70,  80],\n",
              "       [ 20,  40,  60,  80, 100, 120, 120, 140, 160],\n",
              "       [ 30,  60,  90, 120, 150, 180, 180, 210, 240],\n",
              "       [ 40,  80, 120, 160, 200, 240, 240, 280, 320],\n",
              "       [ 50, 100, 150, 200, 250, 300, 300, 350, 400],\n",
              "       [ 60, 120, 180, 240, 300, 360, 360, 420, 480],\n",
              "       [ 60, 120, 180, 240, 300, 360, 360, 420, 480],\n",
              "       [ 70, 140, 210, 280, 350, 420, 420, 490, 560],\n",
              "       [ 80, 160, 240, 320, 400, 480, 480, 560, 640]])"
            ]
          },
          "execution_count": 5,
          "metadata": {},
          "output_type": "execute_result"
        }
      ],
      "source": [
        "np.outer(array_1, array_2)"
      ]
    },
    {
      "cell_type": "markdown",
      "metadata": {
        "id": "Sy5NdbFEUUec"
      },
      "source": [
        "**Q6. Before you buy a home, which numpy function will you use to measure your monthly mortgage payment?**"
      ]
    },
    {
      "cell_type": "markdown",
      "metadata": {
        "id": "xYy0N7zqUdhl"
      },
      "source": [
        "**np.pmt(rate, nper, pv)** function we will be using in order to calculate monthly mortgage payment before you purchase a house.\n",
        "\n",
        "1. rate = The periodic interest rate\n",
        "2. nper = The number of payment periods\n",
        "3. pv = The total value of the mortgage loan"
      ]
    },
    {
      "cell_type": "markdown",
      "metadata": {
        "id": "kkmGBwPyUlZ5"
      },
      "source": [
        "**Q7. Can string data be stored in numpy arrays? If so, list at least one restriction that applies to this data.**"
      ]
    },
    {
      "cell_type": "markdown",
      "metadata": {
        "id": "3pksr0tMUtSM"
      },
      "source": [
        "The string can be stored in an array. The maximum allowable string length is a restriction on the data type string, so this value must be taken into account whenever string data is stored."
      ]
    },
    {
      "cell_type": "code",
      "execution_count": null,
      "metadata": {
        "id": "KbGrL-n_UKEP"
      },
      "outputs": [],
      "source": []
    }
  ],
  "metadata": {
    "colab": {
      "provenance": []
    },
    "kernelspec": {
      "display_name": "Python 3",
      "name": "python3"
    },
    "language_info": {
      "name": "python"
    }
  },
  "nbformat": 4,
  "nbformat_minor": 0
}
