{
  "cells": [
    {
      "cell_type": "markdown",
      "metadata": {
        "id": "zf_A9RM7HRZt"
      },
      "source": [
        "**Q1. What is the concept of a metaclass?**"
      ]
    },
    {
      "cell_type": "markdown",
      "metadata": {
        "id": "HUmZKnhmHnqt"
      },
      "source": [
        "In Python, a metaclass is a class that specifies the behaviour of another class. In Python, any Instance of Class is an Instance of type metaclass, since a class is an instance of Metaclass. Metaclass type includes a wide variety of common data types such as list, tuple,set, dictionary,int, float,str,and many more."
      ]
    },
    {
      "cell_type": "code",
      "execution_count": 3,
      "metadata": {
        "colab": {
          "base_uri": "https://localhost:8080/"
        },
        "id": "6mbB5Ee5IGXd",
        "outputId": "35eb8c73-705a-49d5-800e-e434971a4027"
      },
      "outputs": [
        {
          "name": "stdout",
          "output_type": "stream",
          "text": [
            "<class 'type'>\n",
            "<class '__main__.meta'>\n"
          ]
        }
      ],
      "source": [
        "class meta(type):\n",
        "    pass\n",
        "class class_meta(metaclass=meta):\n",
        "    pass\n",
        "print(type(meta))\n",
        "print(type(class_meta))"
      ]
    },
    {
      "cell_type": "markdown",
      "metadata": {
        "id": "Yc88to2qIIoY"
      },
      "source": [
        "In above. meta is a class and class_meta is instance of a classs meta"
      ]
    },
    {
      "cell_type": "markdown",
      "metadata": {
        "id": "sZohP7c5Hzlc"
      },
      "source": [
        "**Q2. What is the best way to declare a class&#39;s metaclass?**"
      ]
    },
    {
      "cell_type": "code",
      "execution_count": 2,
      "metadata": {
        "colab": {
          "base_uri": "https://localhost:8080/"
        },
        "id": "1Jqx4xL4HI9-",
        "outputId": "dd2fb57b-bcae-4dee-994b-12171da419e4"
      },
      "outputs": [
        {
          "name": "stdout",
          "output_type": "stream",
          "text": [
            "<class 'type'>\n",
            "<class '__main__.meta'>\n"
          ]
        }
      ],
      "source": [
        "class meta(type):\n",
        "    pass\n",
        "class class_meta(metaclass=meta):\n",
        "    pass\n",
        "print(type(meta))\n",
        "print(type(class_meta))\n"
      ]
    },
    {
      "cell_type": "markdown",
      "metadata": {
        "id": "rYbW0ceXISzo"
      },
      "source": [
        "**Q3. How do class decorators overlap with metaclasses for handling classes?**"
      ]
    },
    {
      "cell_type": "markdown",
      "metadata": {
        "id": "93BH6iiHIiv5"
      },
      "source": [
        "If we can do something with a class decorator, we can do it with a custom metaclass in support of use the \"decorator function,\" the one that accepts a class object and alters it, during the __new__ or __init__ that make the class object."
      ]
    },
    {
      "cell_type": "markdown",
      "metadata": {
        "id": "RfrgfmgRItdx"
      },
      "source": [
        "**Q4. How do class decorators overlap with metaclasses for handling instances?**"
      ]
    },
    {
      "cell_type": "markdown",
      "metadata": {
        "id": "moj0fbQyIyqR"
      },
      "source": [
        "If we can do something with a class decorator, we can do it with a custom metaclass in support of use the \"decorator function,\" the one that accepts a class object and alters it, during the __new__ or __init__ that make the class object."
      ]
    },
    {
      "cell_type": "code",
      "execution_count": null,
      "metadata": {
        "id": "_GjLGZVVICGY"
      },
      "outputs": [],
      "source": []
    }
  ],
  "metadata": {
    "colab": {
      "provenance": []
    },
    "kernelspec": {
      "display_name": "Python 3",
      "name": "python3"
    },
    "language_info": {
      "name": "python"
    }
  },
  "nbformat": 4,
  "nbformat_minor": 0
}
