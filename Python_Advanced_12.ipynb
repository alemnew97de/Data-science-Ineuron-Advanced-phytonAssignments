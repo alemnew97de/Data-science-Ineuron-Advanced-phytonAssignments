{
  "cells": [
    {
      "cell_type": "markdown",
      "metadata": {
        "id": "c8mbWecmMCSt"
      },
      "source": [
        "**Q1. Does assigning a value to a string&#39;s indexed character violate Python&#39;s string immutability?**"
      ]
    },
    {
      "cell_type": "markdown",
      "metadata": {
        "id": "R3CLyOTHNqqX"
      },
      "source": [
        "Python string is immutable so there is no provision to assigned new value on string's indexed"
      ]
    },
    {
      "cell_type": "code",
      "execution_count": 3,
      "metadata": {
        "colab": {
          "base_uri": "https://localhost:8080/",
          "height": 235
        },
        "id": "98yjQ3zVL84c",
        "outputId": "9de048cc-8e40-4cfb-8172-d076adf8d12f"
      },
      "outputs": [
        {
          "name": "stdout",
          "output_type": "stream",
          "text": [
            "<class 'str'>\n",
            "140014179857712\n"
          ]
        },
        {
          "ename": "TypeError",
          "evalue": "ignored",
          "output_type": "error",
          "traceback": [
            "\u001b[0;31m---------------------------------------------------------------------------\u001b[0m",
            "\u001b[0;31mTypeError\u001b[0m                                 Traceback (most recent call last)",
            "\u001b[0;32m<ipython-input-3-96afac5fdf57>\u001b[0m in \u001b[0;36m<module>\u001b[0;34m\u001b[0m\n\u001b[1;32m      2\u001b[0m \u001b[0mprint\u001b[0m\u001b[0;34m(\u001b[0m\u001b[0mtype\u001b[0m\u001b[0;34m(\u001b[0m\u001b[0mstring\u001b[0m\u001b[0;34m)\u001b[0m\u001b[0;34m)\u001b[0m\u001b[0;34m\u001b[0m\u001b[0;34m\u001b[0m\u001b[0m\n\u001b[1;32m      3\u001b[0m \u001b[0mprint\u001b[0m\u001b[0;34m(\u001b[0m\u001b[0mid\u001b[0m\u001b[0;34m(\u001b[0m\u001b[0mstring\u001b[0m\u001b[0;34m)\u001b[0m\u001b[0;34m)\u001b[0m\u001b[0;34m\u001b[0m\u001b[0;34m\u001b[0m\u001b[0m\n\u001b[0;32m----> 4\u001b[0;31m \u001b[0mstring\u001b[0m\u001b[0;34m[\u001b[0m\u001b[0;36m0\u001b[0m\u001b[0;34m]\u001b[0m \u001b[0;34m=\u001b[0m \u001b[0;34m'H'\u001b[0m\u001b[0;34m\u001b[0m\u001b[0;34m\u001b[0m\u001b[0m\n\u001b[0m",
            "\u001b[0;31mTypeError\u001b[0m: 'str' object does not support item assignment"
          ]
        }
      ],
      "source": [
        "string = 'Ineuron'\n",
        "print(type(string))\n",
        "print(id(string))\n",
        "string[0] = 'H'"
      ]
    },
    {
      "cell_type": "markdown",
      "metadata": {
        "id": "rYM3ZhtgOMFz"
      },
      "source": [
        "**Q2. Does using the += operator to concatenate strings violate Python&#39;s string immutability? Why or why not?**"
      ]
    },
    {
      "cell_type": "code",
      "execution_count": 10,
      "metadata": {
        "colab": {
          "base_uri": "https://localhost:8080/"
        },
        "id": "n2it3PWGN6ek",
        "outputId": "04a7a53a-4f13-4966-b90c-94be4deb9ea4"
      },
      "outputs": [
        {
          "name": "stdout",
          "output_type": "stream",
          "text": [
            "140013946435792\n",
            "140013947130480\n"
          ]
        }
      ],
      "source": [
        "string_1 = 'This is a INeuron session on Python'\n",
        "print(id(string_1))\n",
        "\n",
        "string_1 += 'This is a INeuron session on Machine Learning'\n",
        "\n",
        "print(id(string_1))\n"
      ]
    },
    {
      "cell_type": "markdown",
      "metadata": {
        "id": "ZTHNobEpPLIs"
      },
      "source": [
        "In above, += does not violate python's string immutability. Instead, it creates a new instance with new value at new memory location"
      ]
    },
    {
      "cell_type": "markdown",
      "metadata": {
        "id": "XSA5tdHHPhxE"
      },
      "source": [
        "**Q3. In Python, how many different ways are there to index a character?**"
      ]
    },
    {
      "cell_type": "markdown",
      "metadata": {
        "id": "ZSSLUk0sPxW-"
      },
      "source": [
        "It is possible to locate a specific character in a string by referring to its name followed by the character's index number, which should be enclosed in square brackets. Positive Indexing, where the initial index is 0 and subsequent indices increase, or Having a negative index"
      ]
    },
    {
      "cell_type": "code",
      "execution_count": 14,
      "metadata": {
        "colab": {
          "base_uri": "https://localhost:8080/"
        },
        "id": "cs5baubKOmfn",
        "outputId": "fb4bc777-404f-4f48-be12-be95589c6ce7"
      },
      "outputs": [
        {
          "name": "stdout",
          "output_type": "stream",
          "text": [
            "T\n",
            "o\n"
          ]
        }
      ],
      "source": [
        "string_1 = 'This is a INeuron session on Python'\n",
        "\n",
        "print(string_1[0])\n",
        "print(string_1[-2])"
      ]
    },
    {
      "cell_type": "markdown",
      "metadata": {
        "id": "_egMIHzdQYuS"
      },
      "source": [
        "**Q4. What is the relationship between indexing and slicing?**"
      ]
    },
    {
      "cell_type": "markdown",
      "metadata": {
        "id": "sMJ4o0GRQjx2"
      },
      "source": [
        "Indexing means to call individual element from a string where as slicing means to call sequence of elements from a string"
      ]
    },
    {
      "cell_type": "code",
      "execution_count": 16,
      "metadata": {
        "colab": {
          "base_uri": "https://localhost:8080/"
        },
        "id": "z5vkEk9LQJRe",
        "outputId": "99cef89a-9bea-430b-ac10-34d169c1af21"
      },
      "outputs": [
        {
          "name": "stdout",
          "output_type": "stream",
          "text": [
            "is i\n",
            "i\n"
          ]
        }
      ],
      "source": [
        "string_1 = 'This is a INeuron session on Python'\n",
        "\n",
        "print(string_1[2:6])\n",
        "print(string_1[2])\n"
      ]
    },
    {
      "cell_type": "markdown",
      "metadata": {
        "id": "HA97DilpQ038"
      },
      "source": [
        "**Q5. What is an indexed character&#39;s exact data type? What is the data form of a slicing-generated substring?**"
      ]
    },
    {
      "cell_type": "markdown",
      "metadata": {
        "id": "DJuIM-2tRGiL"
      },
      "source": [
        "Both are type of string"
      ]
    },
    {
      "cell_type": "code",
      "execution_count": 17,
      "metadata": {
        "colab": {
          "base_uri": "https://localhost:8080/"
        },
        "id": "HfgwV2tUQeYT",
        "outputId": "1ec73025-503b-4181-a3f3-ed866e04183c"
      },
      "outputs": [
        {
          "name": "stdout",
          "output_type": "stream",
          "text": [
            "<class 'str'>\n",
            "<class 'str'>\n"
          ]
        }
      ],
      "source": [
        "string_1 = 'This is a INeuron session on Python'\n",
        "\n",
        "print(type(string_1[2:6]))\n",
        "print(type(string_1[2]))"
      ]
    },
    {
      "cell_type": "markdown",
      "metadata": {
        "id": "RZ2FdKMQRMMs"
      },
      "source": [
        "**Q6. What is the relationship between string and character &quot;types&quot; in Python?**"
      ]
    },
    {
      "cell_type": "markdown",
      "metadata": {
        "id": "CaS-s3FqRWSQ"
      },
      "source": [
        "We use the term \"String\" to refer to any object that stores a string of character datatypes."
      ]
    },
    {
      "cell_type": "markdown",
      "metadata": {
        "id": "RKj7JEpSRaNd"
      },
      "source": [
        "**Q7. Identify at least two operators and one method that allow you to combine one or more smaller strings to create a larger string.**"
      ]
    },
    {
      "cell_type": "markdown",
      "metadata": {
        "id": "u0OBLGt0RqHc"
      },
      "source": [
        "The operators +, += and * allow you to join multiple strings together. The join() method combines individual strings from iterable types like lists and tuples."
      ]
    },
    {
      "cell_type": "code",
      "execution_count": 19,
      "metadata": {
        "colab": {
          "base_uri": "https://localhost:8080/"
        },
        "id": "gMJP1dYMRCt8",
        "outputId": "8baeaa37-8fba-4421-c692-d9391f42e96d"
      },
      "outputs": [
        {
          "name": "stdout",
          "output_type": "stream",
          "text": [
            "This is iNeuron sessionon Machine Learning FSDS\n",
            "FSDS FSDS FSDS \n",
            "I N E U R O N\n",
            "i n e u r o n\n"
          ]
        }
      ],
      "source": [
        "String_1 = 'This is iNeuron session'\n",
        "String_1 += 'on Machine Learning'\n",
        "print(String_1 + ' FSDS')\n",
        "print('FSDS '*3)\n",
        "print(\" \".join(['I','N','E','U','R','O','N']))\n",
        "print(\" \".join(('I','N','E','U','R','O','N')).lower())"
      ]
    },
    {
      "cell_type": "markdown",
      "metadata": {
        "id": "PaV6Wi8MR_OH"
      },
      "source": [
        "**Q8. What is the benefit of first checking the target string with in or not in before using the index method to find a substring?**"
      ]
    },
    {
      "cell_type": "markdown",
      "metadata": {
        "id": "gZ91_6XXSKYG"
      },
      "source": [
        "If you want to be sure that the substring you're looking for is available before calling the index method, you can use the in or not Operators."
      ]
    },
    {
      "cell_type": "markdown",
      "metadata": {
        "id": "4fcdwLbaSNab"
      },
      "source": [
        "**Q9. Which operators and built-in string methods produce simple Boolean (true/false) results?**"
      ]
    },
    {
      "cell_type": "markdown",
      "metadata": {
        "id": "nnMw9_K2SSW1"
      },
      "source": [
        "1.   in\n",
        "2.   not\n",
        "3. .isalpha()\n",
        "4. .isalnum()\n",
        "5. .isdecimal()\n",
        "6. .isdigit()\n",
        "7. .islower()\n",
        "8. .isnumeric()\n",
        "9. .isprintable()\n",
        "10. .isspace()\n",
        "11. .istitle()"
      ]
    },
    {
      "cell_type": "code",
      "execution_count": null,
      "metadata": {
        "id": "gUFV2xRkR4-l"
      },
      "outputs": [],
      "source": []
    }
  ],
  "metadata": {
    "colab": {
      "provenance": []
    },
    "kernelspec": {
      "display_name": "Python 3",
      "name": "python3"
    },
    "language_info": {
      "name": "python"
    }
  },
  "nbformat": 4,
  "nbformat_minor": 0
}
