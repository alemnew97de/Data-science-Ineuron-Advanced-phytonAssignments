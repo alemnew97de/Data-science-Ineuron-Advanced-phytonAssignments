{
  "cells": [
    {
      "cell_type": "markdown",
      "metadata": {
        "id": "YTDSskZC4QAM"
      },
      "source": [
        "**Q1. Explain the difference between greedy and non-greedy syntax with visual terms in as few words as possible. What is the bare minimum effort required to transform a greedy pattern into a non-greedy one? What characters or characters can you introduce or change?**"
      ]
    },
    {
      "cell_type": "markdown",
      "metadata": {
        "id": "wsDjCLHS7c2v"
      },
      "source": [
        "**Greedy Syntax:** Regular expressions are \"greedy,\" meaning they attempt to find as many feasible matches in a given string.That is, the star causes the regex engine to repeat the preceding literal as often as possible. So, the engine will repeat the dot as many times as it can.\n",
        "\n",
        "\n",
        "**Non Greedy Syntax:**The issue can be resolved by making the star slothful rather than avaricious. Put a question mark (?) after the star in the regex to achieve this."
      ]
    },
    {
      "cell_type": "markdown",
      "metadata": {
        "id": "p-HPG8tU9kKY"
      },
      "source": [
        "**Q2. When exactly does greedy versus non-greedy make a difference?  What if you&#39;re looking for a non-greedy match but the only one available is greedy?**"
      ]
    },
    {
      "cell_type": "markdown",
      "metadata": {
        "id": "pWr_IFSO96Hz"
      },
      "source": [
        "Python's non-greedy regex version finds the shortest matching string. Python's \"greedy\" variant matches the longest string possible. In the event when just a non-greedy match is available, alternative regex filtering and pattern matching techniques can be used to zero in on the necessary pattern."
      ]
    },
    {
      "cell_type": "markdown",
      "metadata": {
        "id": "3h_2nQC297wl"
      },
      "source": [
        "**Q3. In a simple match of a string, which looks only for one match and does not do any replacement, is the use of a nontagged group likely to make any practical difference?**"
      ]
    },
    {
      "cell_type": "code",
      "execution_count": 6,
      "metadata": {
        "colab": {
          "base_uri": "https://localhost:8080/"
        },
        "id": "NdYUDYaL4JCC",
        "outputId": "5d740ef9-875a-4424-fdc4-cbaf3a843882"
      },
      "outputs": [
        {
          "name": "stdout",
          "output_type": "stream",
          "text": [
            "Phone number found: 842\n",
            "Phone number found: 842\n"
          ]
        }
      ],
      "source": [
        "import re\n",
        "phoneNumRegex = re.compile(r'\\d\\d\\d')\n",
        "mo = phoneNumRegex.search('My number is 84279-784-84.')\n",
        "print('Phone number found: ' + mo.group()) # non tagged group\n",
        "print('Phone number found: ' + mo.group(0))\n"
      ]
    },
    {
      "cell_type": "markdown",
      "metadata": {
        "id": "bKk7LwXaAAje"
      },
      "source": [
        "**Q4. Describe a scenario in which using a nontagged category would have a significant impact on the program&#39;s outcomes.**"
      ]
    },
    {
      "cell_type": "code",
      "execution_count": 14,
      "metadata": {
        "colab": {
          "base_uri": "https://localhost:8080/"
        },
        "id": "9wRzA9xeAIo3",
        "outputId": "702ac995-dfe5-488b-cafc-40650d7b9fd9"
      },
      "outputs": [
        {
          "data": {
            "text/plain": [
              "('890', '913', '35')"
            ]
          },
          "execution_count": 14,
          "metadata": {},
          "output_type": "execute_result"
        }
      ],
      "source": [
        "import re\n",
        "string='890.913.35'\n",
        "pattern=r'(\\d+)(?:.)(\\d+)(?:.)(\\d+)'\n",
        "regobj=re.compile(pattern)\n",
        "matobj=regobj.search(string)\n",
        "matobj.groups()"
      ]
    },
    {
      "cell_type": "markdown",
      "metadata": {
        "id": "-wIA_bFP_Ipv"
      },
      "source": [
        "**Q5. Unlike a normal regex pattern, a look-ahead condition does not consume the characters it examines. Describe a situation in which this could make a difference in the results of your programme.**"
      ]
    },
    {
      "cell_type": "markdown",
      "metadata": {
        "id": "fGsnmaA_AObJ"
      },
      "source": [
        "Having a positive look ahead makes a difference when counting the number of lines in a string or the number of sentences in a string that contain numerous words."
      ]
    },
    {
      "cell_type": "markdown",
      "metadata": {
        "id": "y9DpwMDN_r34"
      },
      "source": [
        "**Q6. In standard expressions, what is the difference between positive look-ahead and negative look-ahead?**"
      ]
    },
    {
      "cell_type": "markdown",
      "metadata": {
        "id": "PoFsTf_w_4Mg"
      },
      "source": [
        "Having a positive look ahead makes a difference when counting the number of lines in a string or the number of sentences in a string that contain numerous words."
      ]
    },
    {
      "cell_type": "code",
      "execution_count": 15,
      "metadata": {
        "colab": {
          "base_uri": "https://localhost:8080/"
        },
        "id": "_M9T8bSN_PXK",
        "outputId": "013b7a5d-7e1e-43cf-dd0f-46950af4d7b1"
      },
      "outputs": [
        {
          "name": "stdout",
          "output_type": "stream",
          "text": [
            "Positive lookahead: ['abc']\n"
          ]
        }
      ],
      "source": [
        "import re\n",
        "pat=r'abc(?=[A-Z])'\n",
        "text=\"abcABCEF\"\n",
        "regobj=re.compile(pat)\n",
        "matobj=regobj.findall(text)\n",
        "print(\"Positive lookahead:\",matobj)\n"
      ]
    },
    {
      "cell_type": "code",
      "execution_count": 16,
      "metadata": {
        "colab": {
          "base_uri": "https://localhost:8080/"
        },
        "id": "kT8dImQaAUOh",
        "outputId": "1b7800ef-5665-4ba6-a479-186eb74b1b7d"
      },
      "outputs": [
        {
          "name": "stdout",
          "output_type": "stream",
          "text": [
            "Negative look ahead: ['abc']\n"
          ]
        }
      ],
      "source": [
        "import re\n",
        "pat1=r'abc(?!abc)'\n",
        "text1=\"aeiouabcabc\"\n",
        "regobj1=re.compile(pat1)\n",
        "matobj1=regobj1.findall(text)\n",
        "print(\"Negative look ahead:\",matobj1) "
      ]
    },
    {
      "cell_type": "markdown",
      "metadata": {
        "id": "UqX9YJLsAtyM"
      },
      "source": [
        "**Q7. What is the benefit of referring to groups by name rather than by number in a standard expression?**"
      ]
    },
    {
      "cell_type": "markdown",
      "metadata": {
        "id": "A6Rx9ErJA1Tf"
      },
      "source": [
        "Code is mantaineable and looks clear"
      ]
    },
    {
      "cell_type": "markdown",
      "metadata": {
        "id": "uJsfFzWfA7Oq"
      },
      "source": [
        "**Q8. Can you identify repeated items within a target string using named groups, as in &quot;The cow jumped over the moon&quot;?**"
      ]
    },
    {
      "cell_type": "code",
      "execution_count": 21,
      "metadata": {
        "colab": {
          "base_uri": "https://localhost:8080/"
        },
        "id": "6V5eOOOwAWUv",
        "outputId": "459ea8b1-300a-450e-dba8-41476b0e87bc"
      },
      "outputs": [
        {
          "data": {
            "text/plain": [
              "['The', 'the']"
            ]
          },
          "execution_count": 21,
          "metadata": {},
          "output_type": "execute_result"
        }
      ],
      "source": [
        "import re\n",
        "text = \"The cow jumped over the moon\"\n",
        "regobj=re.compile(r'(The)',re.I)\n",
        "regobj.findall(text)"
      ]
    },
    {
      "cell_type": "markdown",
      "metadata": {
        "id": "msKDgkoJL6EH"
      },
      "source": [
        "**Q9. When parsing a string, what is at least one thing that the Scanner interface does for you that the re.findall feature does not?**"
      ]
    },
    {
      "cell_type": "markdown",
      "metadata": {
        "id": "8_Cnl4DCMRsS"
      },
      "source": [
        "**re.search()** method either returns None (if the pattern doesn’t match), or a re.MatchObject that contains information about the matching part of the string. In contrast to other methods of data extraction, this one stops working after the first match is made. **returnall** non-overlapping matches of pattern in string, as a list of strings. Matches are returned in the order they were found as the string is read from left to right."
      ]
    },
    {
      "cell_type": "markdown",
      "metadata": {
        "id": "YGx7yKPQMZpQ"
      },
      "source": [
        "**Q10. Does a scanner object have to be named scanner?**"
      ]
    },
    {
      "cell_type": "markdown",
      "metadata": {
        "id": "-YrDK2bNMfRK"
      },
      "source": [
        "There's no need to give the scanner object that name. Name it whatever you like."
      ]
    },
    {
      "cell_type": "code",
      "execution_count": null,
      "metadata": {
        "id": "wy_ac5w-BAGQ"
      },
      "outputs": [],
      "source": []
    }
  ],
  "metadata": {
    "colab": {
      "provenance": []
    },
    "kernelspec": {
      "display_name": "Python 3",
      "name": "python3"
    },
    "language_info": {
      "name": "python"
    }
  },
  "nbformat": 4,
  "nbformat_minor": 0
}
